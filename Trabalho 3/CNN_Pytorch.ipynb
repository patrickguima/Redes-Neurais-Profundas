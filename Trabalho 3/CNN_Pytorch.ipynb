{
  "nbformat": 4,
  "nbformat_minor": 0,
  "metadata": {
    "colab": {
      "name": "CNN_Pytorch.ipynb",
      "version": "0.3.2",
      "provenance": [],
      "collapsed_sections": []
    },
    "kernelspec": {
      "name": "python3",
      "display_name": "Python 3"
    },
    "accelerator": "GPU"
  },
  "cells": [
    {
      "metadata": {
        "id": "u-CWazscozcf",
        "colab_type": "code",
        "colab": {}
      },
      "cell_type": "code",
      "source": [
        "%matplotlib inline\n",
        "\n",
        "import numpy as np \n",
        "import matplotlib.pyplot as plt\n",
        "\n",
        "import torch\n",
        "import torch.nn as nn\n",
        "import torch.nn.functional as F\n",
        "from torch.utils.data import DataLoader\n",
        "\n",
        "import torchvision\n",
        "import torchvision.transforms as transforms"
      ],
      "execution_count": 0,
      "outputs": []
    },
    {
      "metadata": {
        "id": "zFSalz5FzJ6b",
        "colab_type": "code",
        "outputId": "7d9ef45e-d505-4cb5-a002-70c440526595",
        "colab": {
          "base_uri": "https://localhost:8080/",
          "height": 51
        }
      },
      "cell_type": "code",
      "source": [
        "#normaliza o dataset usando um pouco de data augmentation\n",
        "transform_train = transforms.Compose([\n",
        "    transforms.RandomCrop(32, padding=4),\n",
        "    transforms.RandomHorizontalFlip(),\n",
        "    transforms.ToTensor(),\n",
        "    transforms.Normalize((0.5, 0.5, 0.5), (0.5, 0.5, 0.5)),\n",
        "])\n",
        "\n",
        "#normaliza o dataset de test mas sem data augmentation\n",
        "transform_test = transforms.Compose([\n",
        "    transforms.ToTensor(),\n",
        "    transforms.Normalize((0.5, 0.5, 0.5), (0.5, 0.5, 0.5)),\n",
        "])\n",
        "dataset_train = torchvision.datasets.CIFAR10(root='./data', train=True,\n",
        "                                        download=True, transform=transform_train)\n",
        "\n",
        "dataset_test = torchvision.datasets.CIFAR10(root='./data', train=False,\n",
        "                                        download=True, transform=transform_test)"
      ],
      "execution_count": 58,
      "outputs": [
        {
          "output_type": "stream",
          "text": [
            "Files already downloaded and verified\n",
            "Files already downloaded and verified\n"
          ],
          "name": "stdout"
        }
      ]
    },
    {
      "metadata": {
        "id": "7DiXIFOJzMcu",
        "colab_type": "code",
        "outputId": "3404de15-afe0-4acf-96aa-6edd3216644e",
        "colab": {
          "base_uri": "https://localhost:8080/",
          "height": 68
        }
      },
      "cell_type": "code",
      "source": [
        "#dataset de treino com batch de tamanho 32 e de teste com tamanho 4\n",
        "train_loader = DataLoader(dataset=dataset_train, shuffle=True,batch_size  = 32)\n",
        "test_loader = DataLoader(dataset=dataset_test, shuffle=False,batch_size =4 )\n",
        "\n",
        "dataiter = iter(train_loader)\n",
        "images, labels = dataiter.next()\n",
        "print(images.size())\n",
        "device = torch.device(\"cuda:0\" if torch.cuda.is_available() else \"cpu\")\n",
        "print(device)\n",
        "print(len(train_loader))"
      ],
      "execution_count": 59,
      "outputs": [
        {
          "output_type": "stream",
          "text": [
            "torch.Size([32, 3, 32, 32])\n",
            "cuda:0\n",
            "1563\n"
          ],
          "name": "stdout"
        }
      ]
    },
    {
      "metadata": {
        "id": "37toCFDVvJ9_",
        "colab_type": "code",
        "colab": {}
      },
      "cell_type": "code",
      "source": [
        "\n",
        "#definindo a Rede\n",
        "class CNN(nn.Module):\n",
        "  \n",
        "  def __init__(self):\n",
        "    super(CNN, self).__init__()\n",
        "\n",
        "    self.conv_layer = nn.Sequential(\n",
        "            \n",
        "      nn.Conv2d(in_channels=3, out_channels=32, kernel_size=3, padding=1),\n",
        "      nn.BatchNorm2d(32),\n",
        "      nn.ReLU(inplace=True),\n",
        "      nn.Conv2d(in_channels=32, out_channels=64, kernel_size=3, padding=1),\n",
        "      nn.ReLU(inplace=True),\n",
        "      nn.MaxPool2d(kernel_size=2, stride=2),\n",
        "              \n",
        "      nn.Conv2d(in_channels=64, out_channels=128, kernel_size=3, padding=1),\n",
        "      nn.BatchNorm2d(128),\n",
        "      nn.ReLU(inplace=True),\n",
        "      nn.Conv2d(in_channels=128, out_channels=128, kernel_size=3, padding=1),\n",
        "      nn.ReLU(inplace=True),\n",
        "      nn.MaxPool2d(kernel_size=2, stride=2),\n",
        "      nn.Dropout2d(p=0.05),\n",
        "            \n",
        "      nn.Conv2d(in_channels=128, out_channels=256, kernel_size=3, padding=1),\n",
        "      nn.BatchNorm2d(256),\n",
        "      nn.ReLU(inplace=True),\n",
        "      nn.Conv2d(in_channels=256, out_channels=256, kernel_size=3, padding=1),\n",
        "      nn.ReLU(inplace=True),\n",
        "      nn.MaxPool2d(kernel_size=2, stride=2),\n",
        "            )\n",
        "\n",
        "    self.fc_layer = nn.Sequential(\n",
        "      nn.Dropout(p=0.1),\n",
        "      nn.Linear(4096, 1024),\n",
        "      nn.ReLU(inplace=True),\n",
        "      nn.Linear(1024, 512),\n",
        "      nn.ReLU(inplace=True),\n",
        "      nn.Dropout(p=0.1),\n",
        "      nn.Linear(512, 10)\n",
        "        )\n",
        "\n",
        "\n",
        "  def forward(self, x):  \n",
        "\n",
        "    x = self.conv_layer(x)      \n",
        "    x = x.view(x.size(0), -1)\n",
        "    x = self.fc_layer(x)\n",
        "\n",
        "    return x\n",
        "  "
      ],
      "execution_count": 0,
      "outputs": []
    },
    {
      "metadata": {
        "id": "g18ouMrt8T1I",
        "colab_type": "text"
      },
      "cell_type": "markdown",
      "source": [
        "#CONSTRUINDO O MODELO, SETANDO A LOSS E OPTIMIZER"
      ]
    },
    {
      "metadata": {
        "id": "vqPLRaNuqK_E",
        "colab_type": "code",
        "colab": {}
      },
      "cell_type": "code",
      "source": [
        "\n",
        "# Constroi o modelo\n",
        "net = CNN()\n",
        "net = net.to(device)\n",
        "\n",
        "\n",
        "#define a loss e o otimizador. SGD foi testado, mas não trouxe bons resultados\n",
        "loss_cross = nn.CrossEntropyLoss()\n",
        "optimizer = torch.optim.Adam(net.parameters(), lr=0.001)"
      ],
      "execution_count": 0,
      "outputs": []
    },
    {
      "metadata": {
        "id": "eKWx7o_Tl_X4",
        "colab_type": "text"
      },
      "cell_type": "markdown",
      "source": [
        "#DEFININDO O TREINO"
      ]
    },
    {
      "metadata": {
        "id": "sE4okS7JqfB5",
        "colab_type": "code",
        "colab": {}
      },
      "cell_type": "code",
      "source": [
        "# TREINO\n",
        "def train(epoch,train_acc,train_losses):\n",
        "  print('\\nEpoca: %d' % epoch)\n",
        "  net.train()\n",
        "  train_loss = []\n",
        "  train_correct = 0\n",
        "  train_total = 0\n",
        "  train_accuracy = 0\n",
        "  \n",
        "  for i, (inputs, targets) in enumerate(train_loader):\n",
        "    inputs, targets = inputs.to(device), targets.to(device)\n",
        "    optimizer.zero_grad()\n",
        "    outputs = net(inputs)\n",
        "    loss = loss_cross(outputs, targets)\n",
        "    loss.backward()\n",
        "    optimizer.step()\n",
        "\n",
        "    train_loss.append(loss.item())\n",
        "    _, predicted = torch.max(outputs.data, 1)\n",
        "    train_total += targets.size(0)\n",
        "    train_correct += (predicted==targets).sum().item()\n",
        "  train_accuracy = 100*train_correct/train_total\n",
        "  train_losses.append(np.mean(train_loss))\n",
        "  train_acc.append(train_accuracy)\n",
        "  print(' train_loss : {:.4f} , train_ acc : {:.2f}%'\\\n",
        "            .format(np.mean(train_loss),train_accuracy))\n",
        "      "
      ],
      "execution_count": 0,
      "outputs": []
    },
    {
      "metadata": {
        "id": "_PQMU_dWl0SF",
        "colab_type": "text"
      },
      "cell_type": "markdown",
      "source": [
        "#DEFININDO A VALIDAÇÃO "
      ]
    },
    {
      "metadata": {
        "id": "ppW-TJXZqjSA",
        "colab_type": "code",
        "colab": {}
      },
      "cell_type": "code",
      "source": [
        "#TESTE\n",
        "def test(epoch,test_acc,test_losses):\n",
        "  net.eval()\n",
        "  test_correct = 0\n",
        "  test_total = 0\n",
        "  test_accuracy =0\n",
        "  test_loss = []\n",
        "  with torch.no_grad():\n",
        "    for i, (inputs, targets) in enumerate(test_loader):\n",
        "      inputs, targets = inputs.to(device), targets.to(device)\n",
        "      outputs = net(inputs)\n",
        "      loss = loss_cross(outputs, targets)\n",
        "      test_loss.append(loss.item())\n",
        "      _, predicted = torch.max(outputs.data, 1)\n",
        "      test_total += targets.size(0)\n",
        "      test_correct += (predicted==targets).sum().item()\n",
        "    test_accuracy = 100*test_correct/test_total\n",
        "    test_acc.append(test_accuracy)\n",
        "    test_losses.append(np.mean(test_loss))\n",
        "    print(' test_loss : {:.4f} , test_ acc : {:.2f}%'\\\n",
        "            .format(np.mean(test_loss),test_accuracy))"
      ],
      "execution_count": 0,
      "outputs": []
    },
    {
      "metadata": {
        "id": "m6yLvg7GmXUy",
        "colab_type": "text"
      },
      "cell_type": "markdown",
      "source": [
        "#TREINADO DURANTE 50 EPOCAS\n"
      ]
    },
    {
      "metadata": {
        "id": "4Zc_RH2No2ca",
        "colab_type": "code",
        "outputId": "101d7b4b-0da3-4dd6-9fce-6a043f54d88a",
        "colab": {
          "base_uri": "https://localhost:8080/",
          "height": 3417
        }
      },
      "cell_type": "code",
      "source": [
        "\n",
        "\n",
        "train_acc_net1 = []\n",
        "train_losses_net1 = []\n",
        "test_acc_net1 = []\n",
        "test_losses_net1 = []\n",
        "\n",
        "epochs =50\n",
        "\n",
        "\n",
        "for epoch in range(epochs):\n",
        "  train(epoch,train_acc = train_acc_net1,train_losses = train_losses_net1)\n",
        "  test(epoch,test_acc = test_acc_net1,test_losses = test_losses_net1)"
      ],
      "execution_count": 64,
      "outputs": [
        {
          "output_type": "stream",
          "text": [
            "\n",
            "Epoca: 0\n",
            " train_loss : 1.5999 , train_ acc : 40.20%\n",
            " test_loss : 1.2606 , test_ acc : 54.65%\n",
            "\n",
            "Epoca: 1\n",
            " train_loss : 1.1780 , train_ acc : 57.71%\n",
            " test_loss : 0.9790 , test_ acc : 65.57%\n",
            "\n",
            "Epoca: 2\n",
            " train_loss : 0.9650 , train_ acc : 65.89%\n",
            " test_loss : 0.8245 , test_ acc : 71.40%\n",
            "\n",
            "Epoca: 3\n",
            " train_loss : 0.8425 , train_ acc : 70.69%\n",
            " test_loss : 0.7271 , test_ acc : 74.59%\n",
            "\n",
            "Epoca: 4\n",
            " train_loss : 0.7629 , train_ acc : 73.79%\n",
            " test_loss : 0.6739 , test_ acc : 77.16%\n",
            "\n",
            "Epoca: 5\n",
            " train_loss : 0.7028 , train_ acc : 75.64%\n",
            " test_loss : 0.6291 , test_ acc : 78.66%\n",
            "\n",
            "Epoca: 6\n",
            " train_loss : 0.6536 , train_ acc : 77.55%\n",
            " test_loss : 0.6265 , test_ acc : 79.13%\n",
            "\n",
            "Epoca: 7\n",
            " train_loss : 0.6142 , train_ acc : 79.20%\n",
            " test_loss : 0.5419 , test_ acc : 81.79%\n",
            "\n",
            "Epoca: 8\n",
            " train_loss : 0.5798 , train_ acc : 80.25%\n",
            " test_loss : 0.5895 , test_ acc : 80.24%\n",
            "\n",
            "Epoca: 9\n",
            " train_loss : 0.5471 , train_ acc : 81.49%\n",
            " test_loss : 0.5415 , test_ acc : 82.12%\n",
            "\n",
            "Epoca: 10\n",
            " train_loss : 0.5200 , train_ acc : 82.19%\n",
            " test_loss : 0.4986 , test_ acc : 83.36%\n",
            "\n",
            "Epoca: 11\n",
            " train_loss : 0.5051 , train_ acc : 82.90%\n",
            " test_loss : 0.4901 , test_ acc : 83.54%\n",
            "\n",
            "Epoca: 12\n",
            " train_loss : 0.4843 , train_ acc : 83.53%\n",
            " test_loss : 0.4832 , test_ acc : 83.93%\n",
            "\n",
            "Epoca: 13\n",
            " train_loss : 0.4619 , train_ acc : 84.27%\n",
            " test_loss : 0.4864 , test_ acc : 83.90%\n",
            "\n",
            "Epoca: 14\n",
            " train_loss : 0.4463 , train_ acc : 84.91%\n",
            " test_loss : 0.4574 , test_ acc : 84.80%\n",
            "\n",
            "Epoca: 15\n",
            " train_loss : 0.4333 , train_ acc : 85.20%\n",
            " test_loss : 0.4522 , test_ acc : 84.37%\n",
            "\n",
            "Epoca: 16\n",
            " train_loss : 0.4169 , train_ acc : 85.91%\n",
            " test_loss : 0.4417 , test_ acc : 85.52%\n",
            "\n",
            "Epoca: 17\n",
            " train_loss : 0.4093 , train_ acc : 86.03%\n",
            " test_loss : 0.4554 , test_ acc : 84.85%\n",
            "\n",
            "Epoca: 18\n",
            " train_loss : 0.3986 , train_ acc : 86.58%\n",
            " test_loss : 0.4233 , test_ acc : 86.28%\n",
            "\n",
            "Epoca: 19\n",
            " train_loss : 0.3823 , train_ acc : 87.16%\n",
            " test_loss : 0.4151 , test_ acc : 86.59%\n",
            "\n",
            "Epoca: 20\n",
            " train_loss : 0.3765 , train_ acc : 87.31%\n",
            " test_loss : 0.4050 , test_ acc : 87.00%\n",
            "\n",
            "Epoca: 21\n",
            " train_loss : 0.3657 , train_ acc : 87.62%\n",
            " test_loss : 0.4099 , test_ acc : 86.76%\n",
            "\n",
            "Epoca: 22\n",
            " train_loss : 0.3526 , train_ acc : 88.05%\n",
            " test_loss : 0.4125 , test_ acc : 86.95%\n",
            "\n",
            "Epoca: 23\n",
            " train_loss : 0.3480 , train_ acc : 88.22%\n",
            " test_loss : 0.3917 , test_ acc : 87.17%\n",
            "\n",
            "Epoca: 24\n",
            " train_loss : 0.3416 , train_ acc : 88.53%\n",
            " test_loss : 0.3729 , test_ acc : 87.93%\n",
            "\n",
            "Epoca: 25\n",
            " train_loss : 0.3379 , train_ acc : 88.48%\n",
            " test_loss : 0.4164 , test_ acc : 86.46%\n",
            "\n",
            "Epoca: 26\n",
            " train_loss : 0.3318 , train_ acc : 88.80%\n",
            " test_loss : 0.3775 , test_ acc : 87.68%\n",
            "\n",
            "Epoca: 27\n",
            " train_loss : 0.3194 , train_ acc : 89.20%\n",
            " test_loss : 0.4303 , test_ acc : 86.80%\n",
            "\n",
            "Epoca: 28\n",
            " train_loss : 0.3156 , train_ acc : 89.20%\n",
            " test_loss : 0.3924 , test_ acc : 87.73%\n",
            "\n",
            "Epoca: 29\n",
            " train_loss : 0.3042 , train_ acc : 89.61%\n",
            " test_loss : 0.4013 , test_ acc : 87.56%\n",
            "\n",
            "Epoca: 30\n",
            " train_loss : 0.3031 , train_ acc : 89.57%\n",
            " test_loss : 0.4254 , test_ acc : 87.17%\n",
            "\n",
            "Epoca: 31\n",
            " train_loss : 0.2990 , train_ acc : 89.85%\n",
            " test_loss : 0.3913 , test_ acc : 87.62%\n",
            "\n",
            "Epoca: 32\n",
            " train_loss : 0.2939 , train_ acc : 89.88%\n",
            " test_loss : 0.4041 , test_ acc : 87.81%\n",
            "\n",
            "Epoca: 33\n",
            " train_loss : 0.2851 , train_ acc : 90.27%\n",
            " test_loss : 0.3699 , test_ acc : 88.12%\n",
            "\n",
            "Epoca: 34\n",
            " train_loss : 0.2848 , train_ acc : 90.33%\n",
            " test_loss : 0.3952 , test_ acc : 87.96%\n",
            "\n",
            "Epoca: 35\n",
            " train_loss : 0.2794 , train_ acc : 90.51%\n",
            " test_loss : 0.3941 , test_ acc : 88.09%\n",
            "\n",
            "Epoca: 36\n",
            " train_loss : 0.2728 , train_ acc : 90.80%\n",
            " test_loss : 0.3615 , test_ acc : 88.70%\n",
            "\n",
            "Epoca: 37\n",
            " train_loss : 0.2690 , train_ acc : 90.82%\n",
            " test_loss : 0.3907 , test_ acc : 87.91%\n",
            "\n",
            "Epoca: 38\n",
            " train_loss : 0.2641 , train_ acc : 91.07%\n",
            " test_loss : 0.3677 , test_ acc : 88.66%\n",
            "\n",
            "Epoca: 39\n",
            " train_loss : 0.2688 , train_ acc : 90.80%\n",
            " test_loss : 0.3843 , test_ acc : 88.61%\n",
            "\n",
            "Epoca: 40\n",
            " train_loss : 0.2597 , train_ acc : 91.08%\n",
            " test_loss : 0.3903 , test_ acc : 88.50%\n",
            "\n",
            "Epoca: 41\n",
            " train_loss : 0.2600 , train_ acc : 91.28%\n",
            " test_loss : 0.3621 , test_ acc : 88.55%\n",
            "\n",
            "Epoca: 42\n",
            " train_loss : 0.2541 , train_ acc : 91.48%\n",
            " test_loss : 0.3749 , test_ acc : 88.47%\n",
            "\n",
            "Epoca: 43\n",
            " train_loss : 0.2495 , train_ acc : 91.61%\n",
            " test_loss : 0.3924 , test_ acc : 88.45%\n",
            "\n",
            "Epoca: 44\n",
            " train_loss : 0.2453 , train_ acc : 91.84%\n",
            " test_loss : 0.3827 , test_ acc : 88.60%\n",
            "\n",
            "Epoca: 45\n",
            " train_loss : 0.2394 , train_ acc : 91.90%\n",
            " test_loss : 0.3603 , test_ acc : 88.66%\n",
            "\n",
            "Epoca: 46\n",
            " train_loss : 0.2366 , train_ acc : 91.97%\n",
            " test_loss : 0.3941 , test_ acc : 88.36%\n",
            "\n",
            "Epoca: 47\n",
            " train_loss : 0.2385 , train_ acc : 91.89%\n",
            " test_loss : 0.3651 , test_ acc : 89.03%\n",
            "\n",
            "Epoca: 48\n",
            " train_loss : 0.2293 , train_ acc : 92.28%\n",
            " test_loss : 0.3874 , test_ acc : 88.42%\n",
            "\n",
            "Epoca: 49\n",
            " train_loss : 0.2276 , train_ acc : 92.39%\n",
            " test_loss : 0.4011 , test_ acc : 88.96%\n"
          ],
          "name": "stdout"
        }
      ]
    },
    {
      "metadata": {
        "id": "dKGD1Fc3pidT",
        "colab_type": "code",
        "colab": {
          "base_uri": "https://localhost:8080/",
          "height": 295
        },
        "outputId": "548c04d0-f722-4f43-ff17-76e3800b39f8"
      },
      "cell_type": "code",
      "source": [
        "plt.title(\"CNN\")\n",
        "x = np.arange(0,epochs)\n",
        "plt.plot(x,train_losses_net1,label = \"train\")\n",
        "plt.plot(x,test_losses_net1,label = \"test\")\n",
        "plt.xlabel(\"epochs\")\n",
        "plt.ylabel(\"loss\")\n",
        "plt.legend()\n",
        "plt.show()"
      ],
      "execution_count": 65,
      "outputs": [
        {
          "output_type": "display_data",
          "data": {
            "image/png": "[encoded data removed]",
            "text/plain": [
              "<Figure size 432x288 with 1 Axes>"
            ]
          },
          "metadata": {
            "tags": []
          }
        }
      ]
    },
    {
      "metadata": {
        "id": "vKhOMRAilleU",
        "colab_type": "text"
      },
      "cell_type": "markdown",
      "source": [
        "#GRAFICO DO LOSS"
      ]
    },
    {
      "metadata": {
        "id": "iuSvVPxTlrnj",
        "colab_type": "text"
      },
      "cell_type": "markdown",
      "source": [
        "#GRAFICO DA ACURÁCIA\n",
        "\n",
        "\n"
      ]
    },
    {
      "metadata": {
        "id": "_3lRIDmVxwZH",
        "colab_type": "code",
        "colab": {
          "base_uri": "https://localhost:8080/",
          "height": 295
        },
        "outputId": "797feef2-6047-4f40-cee8-f661696d7182"
      },
      "cell_type": "code",
      "source": [
        "plt.title(\"CNN\")\n",
        "x = np.arange(0,epochs)\n",
        "plt.plot(x,train_acc_net1,label = \"train\")\n",
        "plt.plot(x,test_acc_net1,label = \"test\")\n",
        "plt.xlabel(\"epochs\")\n",
        "plt.ylabel(\"accuracy\")\n",
        "plt.legend()\n",
        "plt.show()"
      ],
      "execution_count": 66,
      "outputs": [
        {
          "output_type": "display_data",
          "data": {
            "image/png": "[encoded data removed]",
            "text/plain": [
              "<Figure size 432x288 with 1 Axes>"
            ]
          },
          "metadata": {
            "tags": []
          }
        }
      ]
    },
    {
      "metadata": {
        "id": "bXGtaGUyysXy",
        "colab_type": "code",
        "colab": {}
      },
      "cell_type": "code",
      "source": [
        ""
      ],
      "execution_count": 0,
      "outputs": []
    }
  ]
}