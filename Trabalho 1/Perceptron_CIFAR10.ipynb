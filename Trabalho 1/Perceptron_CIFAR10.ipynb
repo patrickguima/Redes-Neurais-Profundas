{
  "nbformat": 4,
  "nbformat_minor": 0,
  "metadata": {
    "colab": {
      "name": "Perceptron CIFAR10 -patrick.ipynb",
      "version": "0.3.2",
      "provenance": [],
      "collapsed_sections": []
    },
    "kernelspec": {
      "name": "python3",
      "display_name": "Python 3"
    },
    "accelerator": "GPU"
  },
  "cells": [
    {
      "metadata": {
        "colab_type": "text",
        "id": "ZlwxmEcvy5jZ"
      },
      "cell_type": "markdown",
      "source": [
        "#PERCEPTRON CIFAR10\n"
      ]
    },
    {
      "metadata": {
        "colab_type": "code",
        "id": "UkHxvpH-oEjo",
        "outputId": "abe53ddc-013b-4aef-cd37-f0233a0a7c4f",
        "colab": {
          "base_uri": "https://localhost:8080/",
          "height": 34
        }
      },
      "cell_type": "code",
      "source": [
        "%matplotlib inline\n",
        "\n",
        "import torch\n",
        "import torchvision\n",
        "import numpy as np\n",
        "\n",
        "np.seterr(all='raise')"
      ],
      "execution_count": 1,
      "outputs": [
        {
          "output_type": "execute_result",
          "data": {
            "text/plain": [
              "{'divide': 'warn', 'invalid': 'warn', 'over': 'warn', 'under': 'ignore'}"
            ]
          },
          "metadata": {
            "tags": []
          },
          "execution_count": 1
        }
      ]
    },
    {
      "metadata": {
        "colab_type": "code",
        "id": "xmSyJ0q1odHr",
        "outputId": "cef188fd-6782-479f-b48d-0deebdd20967",
        "colab": {
          "base_uri": "https://localhost:8080/",
          "height": 51
        }
      },
      "cell_type": "code",
      "source": [
        "# Carregar os datasets\n",
        "\n",
        "dataset_train = torchvision.datasets.CIFAR10(root='./data', train=True,\n",
        "                                        download=True)\n",
        "\n",
        "dataset_test = torchvision.datasets.CIFAR10(root='./data', train=False,\n",
        "                                        download=True)"
      ],
      "execution_count": 2,
      "outputs": [
        {
          "output_type": "stream",
          "text": [
            "\r0it [00:00, ?it/s]"
          ],
          "name": "stderr"
        },
        {
          "output_type": "stream",
          "text": [
            "Downloading https://www.cs.toronto.edu/~kriz/cifar-10-python.tar.gz to ./data/cifar-10-python.tar.gz\n"
          ],
          "name": "stdout"
        },
        {
          "output_type": "stream",
          "text": [
            "100%|█████████▉| 169730048/170498071 [00:45<00:00, 5774236.86it/s]"
          ],
          "name": "stderr"
        },
        {
          "output_type": "stream",
          "text": [
            "Files already downloaded and verified\n"
          ],
          "name": "stdout"
        }
      ]
    },
    {
      "metadata": {
        "colab_type": "code",
        "id": "HYKS7PaDon3h",
        "colab": {}
      },
      "cell_type": "code",
      "source": [
        "classes = ('plane', 'car', 'bird', 'cat',\n",
        "           'deer', 'dog', 'frog', 'horse', 'ship', 'truck')"
      ],
      "execution_count": 0,
      "outputs": []
    },
    {
      "metadata": {
        "colab_type": "code",
        "id": "GdXOphS7oz1V",
        "outputId": "9832f64f-c200-407a-c420-ee743145fe26",
        "colab": {
          "base_uri": "https://localhost:8080/",
          "height": 34
        }
      },
      "cell_type": "code",
      "source": [
        "print(len(dataset_train), len(dataset_test))"
      ],
      "execution_count": 4,
      "outputs": [
        {
          "output_type": "stream",
          "text": [
            "50000 10000\n"
          ],
          "name": "stdout"
        }
      ]
    },
    {
      "metadata": {
        "colab_type": "code",
        "id": "F68CyX4QpHUa",
        "colab": {}
      },
      "cell_type": "code",
      "source": [
        "\n",
        "# Converter para tons de cinza\n",
        "\n",
        "# Treino\n",
        "grayscale_dataset_train = []\n",
        "for img,label in dataset_train:\n",
        "    category = classes[label]\n",
        "    gray_npimg = np.array(img.convert('L'))\n",
        "    grayscale_dataset_train.append((gray_npimg,category))\n",
        "    \n",
        "# Teste\n",
        "grayscale_dataset_test = []\n",
        "for img,label in dataset_test:\n",
        "    category = classes[label]\n",
        "    gray_npimg = np.array(img.convert('L'))\n",
        "    grayscale_dataset_test.append((gray_npimg,category))    "
      ],
      "execution_count": 0,
      "outputs": []
    },
    {
      "metadata": {
        "colab_type": "code",
        "id": "X8IOYTvApKH8",
        "outputId": "1c6ad659-5d59-4bda-bc2e-aec60bdfeb66",
        "colab": {
          "base_uri": "https://localhost:8080/",
          "height": 280
        }
      },
      "cell_type": "code",
      "source": [
        "# Mostrar uma imagem\n",
        "\n",
        "import matplotlib.pyplot as plt\n",
        "import numpy as np\n",
        "\n",
        "image_index = 1\n",
        "label = grayscale_dataset_train[image_index][1]\n",
        "npimg = grayscale_dataset_train[image_index][0]\n",
        "\n",
        "plt.imshow(npimg, cmap='gray')\n",
        "plt.title(label)\n",
        "plt.show()"
      ],
      "execution_count": 6,
      "outputs": [
        {
          "output_type": "display_data",
          "data": {
            "image/png": "[encoded data removed]",
            "text/plain": [
              "<Figure size 432x288 with 1 Axes>"
            ]
          },
          "metadata": {
            "tags": []
          }
        }
      ]
    },
    {
      "metadata": {
        "colab_type": "code",
        "id": "vbcZCLhEpS0_",
        "colab": {}
      },
      "cell_type": "code",
      "source": [
        "# Converter para vetores 1D\n",
        "\n",
        "# Para pensar: por que a divisão por 255 no código abaixo?\n",
        "\n",
        "linear_dataset_train = []\n",
        "target_labels = ('plane', 'car', 'ship', 'truck')\n",
        "for img,category in grayscale_dataset_train:\n",
        "    linear_img = img.reshape(img.shape[0]*img.shape[1],1) / 255\n",
        "    if category in target_labels:\n",
        "        label = 1\n",
        "    else:\n",
        "        label = 0\n",
        "    linear_dataset_train.append((linear_img,label))\n",
        "    \n",
        "linear_dataset_test = []\n",
        "target_labels = ('plane', 'car', 'ship', 'truck')\n",
        "for img,category in grayscale_dataset_test:\n",
        "    linear_img = img.reshape(img.shape[0]*img.shape[1],1) / 255\n",
        "    if category in target_labels:\n",
        "        label = 1\n",
        "    else:\n",
        "        label = 0\n",
        "    linear_dataset_test.append((linear_img,label))    "
      ],
      "execution_count": 0,
      "outputs": []
    },
    {
      "metadata": {
        "colab_type": "code",
        "id": "rd5m8tB-pXV-",
        "outputId": "9a2de4ca-ecd4-409f-ccf7-5cac671e5682",
        "colab": {
          "base_uri": "https://localhost:8080/",
          "height": 34
        }
      },
      "cell_type": "code",
      "source": [
        "size = len(linear_dataset_train[0][0])\n",
        "print(size)"
      ],
      "execution_count": 8,
      "outputs": [
        {
          "output_type": "stream",
          "text": [
            "1024\n"
          ],
          "name": "stdout"
        }
      ]
    },
    {
      "metadata": {
        "colab_type": "text",
        "id": "TCinVN3Ppmnh"
      },
      "cell_type": "markdown",
      "source": [
        "# Perceptron"
      ]
    },
    {
      "metadata": {
        "colab_type": "code",
        "id": "Y77SWaDdpjuW",
        "colab": {}
      },
      "cell_type": "code",
      "source": [
        "def sigmoid(x):\n",
        "    return 1/(1+np.exp(-x))\n",
        "  \n",
        "def stepFunction(t):\n",
        "  if t >= 0.5:\n",
        "    return 1\n",
        "  else:\n",
        "    return 0\n",
        "\n",
        "def perceptron(inputs, weights):\n",
        "  value = inputs.dot(weights)\n",
        "  return value\n",
        "  pass"
      ],
      "execution_count": 0,
      "outputs": []
    },
    {
      "metadata": {
        "id": "sqGLlApbNQvv",
        "colab_type": "code",
        "colab": {}
      },
      "cell_type": "code",
      "source": [
        "def sigmoid_derivate(value):\n",
        "  y = sigmoid(value)\n",
        "  return y*(1-y)"
      ],
      "execution_count": 0,
      "outputs": []
    },
    {
      "metadata": {
        "colab_type": "code",
        "id": "fk01Pl9opvoT",
        "colab": {}
      },
      "cell_type": "code",
      "source": [
        "def evaluate(weights,dataset):\n",
        "  error = 0\n",
        "   # Defina a métrica de avaliação do perceptron aqui (e.g. acurácia)\n",
        "  for img,label in dataset:\n",
        "    inputs = np.append(img,[1])\n",
        "    pred = perceptron(inputs,weights)\n",
        "    if(stepFunction(pred)!=label):\n",
        "      error+=1\n",
        "  ev = (len(dataset)-error) /len(dataset)\n",
        "  return ev\n",
        "\n",
        "  pass"
      ],
      "execution_count": 0,
      "outputs": []
    },
    {
      "metadata": {
        "id": "cJvafiX-Fowa",
        "colab_type": "code",
        "colab": {}
      },
      "cell_type": "code",
      "source": [
        ""
      ],
      "execution_count": 0,
      "outputs": []
    },
    {
      "metadata": {
        "colab_type": "code",
        "id": "1_liNe13pxV_",
        "outputId": "9032d3e4-e193-4f0e-f052-cf0a8649ee4e",
        "colab": {
          "base_uri": "https://localhost:8080/",
          "height": 1734
        }
      },
      "cell_type": "code",
      "source": [
        "# Inicialização\n",
        "weights = (np.random.rand(1,size) - 0.5)[0]\n",
        "bias = (np.random.rand(1) - 0.5) \n",
        "weights = np.append(weights, bias) \n",
        "bestEvaluation = 0\n",
        "neta = 0.001\n",
        "\n",
        "  # Implemente o treino aqui (para separar as duas classes definidas)\n",
        "accuracies = []\n",
        "for epoch in range(100):\n",
        "  np.random.shuffle(linear_dataset_train)\n",
        "  for img,label in linear_dataset_train:\n",
        "    inputs = np.append(img,[1])\n",
        "    pred = perceptron(inputs,weights)\n",
        "    error = label - sigmoid(pred) \n",
        "    loss = inputs*error*neta*(sigmoid_derivate(pred))\n",
        "    weights += loss\n",
        "  acc = evaluate(weights,linear_dataset_train) \n",
        "  accuracies.append(acc)\n",
        "  \n",
        "  print(epoch,\" \",acc)  \n",
        "  \n",
        "print(\"DONE\")\n",
        "\n",
        "    \n",
        "        \n",
        "    #pass"
      ],
      "execution_count": 44,
      "outputs": [
        {
          "output_type": "stream",
          "text": [
            "0   0.69124\n",
            "1   0.69976\n",
            "2   0.7015\n",
            "3   0.70792\n",
            "4   0.71092\n",
            "5   0.7107\n",
            "6   0.71214\n",
            "7   0.71284\n",
            "8   0.70756\n",
            "9   0.71146\n",
            "10   0.71742\n",
            "11   0.70464\n",
            "12   0.71558\n",
            "13   0.72032\n",
            "14   0.71962\n",
            "15   0.72092\n",
            "16   0.71878\n",
            "17   0.72062\n",
            "18   0.7244\n",
            "19   0.71988\n",
            "20   0.7244\n",
            "21   0.72222\n",
            "22   0.71\n",
            "23   0.72616\n",
            "24   0.71414\n",
            "25   0.71752\n",
            "26   0.72584\n",
            "27   0.71748\n",
            "28   0.727\n",
            "29   0.724\n",
            "30   0.71168\n",
            "31   0.72378\n",
            "32   0.71508\n",
            "33   0.72268\n",
            "34   0.7252\n",
            "35   0.72324\n",
            "36   0.72318\n",
            "37   0.69934\n",
            "38   0.72614\n",
            "39   0.72702\n",
            "40   0.71688\n",
            "41   0.72088\n",
            "42   0.72244\n",
            "43   0.71828\n",
            "44   0.71988\n",
            "45   0.71614\n",
            "46   0.71512\n",
            "47   0.72584\n",
            "48   0.72828\n",
            "49   0.73156\n",
            "50   0.70266\n",
            "51   0.72304\n",
            "52   0.7165\n",
            "53   0.70234\n",
            "54   0.7153\n",
            "55   0.71246\n",
            "56   0.72054\n",
            "57   0.72546\n",
            "58   0.7314\n",
            "59   0.7248\n",
            "60   0.72358\n",
            "61   0.72832\n",
            "62   0.70868\n",
            "63   0.73078\n",
            "64   0.71424\n",
            "65   0.72842\n",
            "66   0.72766\n",
            "67   0.72282\n",
            "68   0.7156\n",
            "69   0.73202\n",
            "70   0.71594\n",
            "71   0.70804\n",
            "72   0.7213\n",
            "73   0.71284\n",
            "74   0.71868\n",
            "75   0.72314\n",
            "76   0.72244\n",
            "77   0.73226\n",
            "78   0.72818\n",
            "79   0.7333\n",
            "80   0.7313\n",
            "81   0.7191\n",
            "82   0.71302\n",
            "83   0.72786\n",
            "84   0.71652\n",
            "85   0.72028\n",
            "86   0.72608\n",
            "87   0.72574\n",
            "88   0.73098\n",
            "89   0.72524\n",
            "90   0.71302\n",
            "91   0.71726\n",
            "92   0.72922\n",
            "93   0.71818\n",
            "94   0.71734\n",
            "95   0.73182\n",
            "96   0.72212\n",
            "97   0.71586\n",
            "98   0.73022\n",
            "99   0.7269\n",
            "DONE\n"
          ],
          "name": "stdout"
        }
      ]
    },
    {
      "metadata": {
        "colab_type": "code",
        "id": "2BshiXcCpz_J",
        "outputId": "c9da1d6e-1f4d-48f0-ea37-41990b4eddcd",
        "colab": {
          "base_uri": "https://localhost:8080/",
          "height": 34
        }
      },
      "cell_type": "code",
      "source": [
        "# Avalie o modelo treinado aqui\n",
        "# Como a acurácia no conjunto de teste se compara com a acurácia obtida no conjunto de treino?\n",
        " #list(map(lambda x: x**2, items))\n",
        "#preds = perceptron()\n",
        "\n",
        "acc = evaluate(weights,linear_dataset_test)\n",
        "print(\"acc = \",acc)\n"
      ],
      "execution_count": 45,
      "outputs": [
        {
          "output_type": "stream",
          "text": [
            "acc =  0.7204\n"
          ],
          "name": "stdout"
        }
      ]
    },
    {
      "metadata": {
        "id": "i8OU_UQgegeX",
        "colab_type": "text"
      },
      "cell_type": "markdown",
      "source": [
        ""
      ]
    },
    {
      "metadata": {
        "colab_type": "code",
        "id": "ND2dypVep2Gc",
        "outputId": "d44be3f2-8e5d-405a-c663-a91857e20884",
        "colab": {
          "base_uri": "https://localhost:8080/",
          "height": 282
        }
      },
      "cell_type": "code",
      "source": [
        "# Caso queiram plotar alguma coisa\n",
        "\n",
        "import matplotlib.pyplot as plt\n",
        "plt.plot(accuracies)"
      ],
      "execution_count": 46,
      "outputs": [
        {
          "output_type": "execute_result",
          "data": {
            "text/plain": [
              "[<matplotlib.lines.Line2D at 0x7fbde9e98c88>]"
            ]
          },
          "metadata": {
            "tags": []
          },
          "execution_count": 46
        },
        {
          "output_type": "display_data",
          "data": {
            "image/png": "[encoded data removed]",
            "text/plain": [
              "<Figure size 432x288 with 1 Axes>"
            ]
          },
          "metadata": {
            "tags": []
          }
        }
      ]
    },
    {
      "metadata": {
        "colab_type": "text",
        "id": "0n1vFfF8p6-f"
      },
      "cell_type": "markdown",
      "source": [
        "# Classificando classes individuais"
      ]
    },
    {
      "metadata": {
        "id": "g_K4jfFhXCCF",
        "colab_type": "text"
      },
      "cell_type": "markdown",
      "source": [
        "#DATASETS\n"
      ]
    },
    {
      "metadata": {
        "colab_type": "code",
        "id": "YqalUGRUp3Uj",
        "colab": {}
      },
      "cell_type": "code",
      "source": [
        "def data(target_labels,grayscale_dataset_train,grayscale_dataset_test):\n",
        "  linear_dataset_train = []\n",
        "  linear_dataset_test = []\n",
        "  for img,category in grayscale_dataset_train:\n",
        "    linear_img = img.reshape(img.shape[0]*img.shape[1],1) / 255\n",
        "    if category in target_labels:\n",
        "        label = 1\n",
        "    else:\n",
        "        label = 0\n",
        "    linear_dataset_train.append((linear_img,label))\n",
        "    \n",
        "  for img,category in grayscale_dataset_test:\n",
        "    linear_img = img.reshape(img.shape[0]*img.shape[1],1) / 255\n",
        "    if category in target_labels:\n",
        "        label = 1\n",
        "    else:\n",
        "        label = 0\n",
        "    linear_dataset_test.append((linear_img,label))\n",
        "  return linear_dataset_train,linear_dataset_test\n"
      ],
      "execution_count": 0,
      "outputs": []
    },
    {
      "metadata": {
        "id": "XdvfmvXp5k4h",
        "colab_type": "text"
      },
      "cell_type": "markdown",
      "source": [
        "#TREINO"
      ]
    },
    {
      "metadata": {
        "id": "fH3bm-QBeyPw",
        "colab_type": "code",
        "colab": {}
      },
      "cell_type": "code",
      "source": [
        "def training(linear_dataset_train,label_set):\n",
        "  weights = (np.random.rand(1,size) - 0.5)[0]\n",
        "  bias = (np.random.rand(1) - 0.5) \n",
        "  weights = np.append(weights, bias) \n",
        "  bestEvaluation = 0\n",
        "  neta = 0.001\n",
        "\n",
        "  # Implemente o treino aqui (para separar as duas classes definidas)\n",
        "  accuracies = []\n",
        "  for epoch in range(100): \n",
        "    np.random.shuffle(linear_dataset_train)\n",
        "    for img,label in linear_dataset_train:\n",
        "      inputs = np.append(img,[1])\n",
        "      pred = perceptron(inputs,weights)\n",
        "      error = label - sigmoid(pred) \n",
        "      loss = inputs*error*neta*(sigmoid_derivate(pred))\n",
        "      weights += loss\n",
        "    acc = evaluate(weights,linear_dataset_train) \n",
        "    if(acc>bestEvaluation):\n",
        "      bestEvaluation = acc\n",
        "      best_weights = weights\n",
        "  print(label_set,\" \",bestEvaluation)  \n",
        "  weights =[]\n",
        "  weights= {\n",
        "      \"weights\": best_weights,\n",
        "      \"label\": label_set\n",
        "  }\n",
        "  print(\"DONE\")\n",
        "  return weights"
      ],
      "execution_count": 0,
      "outputs": []
    },
    {
      "metadata": {
        "id": "jWNzzi0dXNCw",
        "colab_type": "text"
      },
      "cell_type": "markdown",
      "source": [
        "#PREPARANDOS OS DATASETS\n"
      ]
    },
    {
      "metadata": {
        "colab_type": "code",
        "id": "9MfgTqGap6Tm",
        "outputId": "699a8994-e581-405f-dbe5-c3f36caace55",
        "colab": {
          "base_uri": "https://localhost:8080/",
          "height": 34
        }
      },
      "cell_type": "code",
      "source": [
        "plane_dataset_train,plane_dataset_test = data([\"plane\"],grayscale_dataset_train,grayscale_dataset_test)\n",
        "car_dataset_train,car_dataset_test = data([\"car\"],grayscale_dataset_train,grayscale_dataset_test)\n",
        "bird_dataset_train,bird_dataset_test = data([\"bird\"],grayscale_dataset_train,grayscale_dataset_test)\n",
        "cat_dataset_train,cat_dataset_test = data([\"cat\"],grayscale_dataset_train,grayscale_dataset_test)\n",
        "deer_dataset_train,deer_dataset_test = data([\"deer\"],grayscale_dataset_train,grayscale_dataset_test)\n",
        "dog_dataset_train,dog_dataset_test = data([\"dog\"],grayscale_dataset_train,grayscale_dataset_test)\n",
        "frog_dataset_train,frog_dataset_test = data([\"frog\"],grayscale_dataset_train,grayscale_dataset_test)\n",
        "horse_dataset_train,horse_dataset_test = data([\"horse\"],grayscale_dataset_train,grayscale_dataset_test)\n",
        "ship_dataset_train,ship_dataset_test = data([\"ship\"],grayscale_dataset_train,grayscale_dataset_test)\n",
        "truck_dataset_train,truck_dataset_test = data([\"truck\"],grayscale_dataset_train,grayscale_dataset_test)\n",
        "print(\"DONE DATASETS\")\n"
      ],
      "execution_count": 49,
      "outputs": [
        {
          "output_type": "stream",
          "text": [
            "DONE DATASETS\n"
          ],
          "name": "stdout"
        }
      ]
    },
    {
      "metadata": {
        "id": "a6Chugpr5y1i",
        "colab_type": "text"
      },
      "cell_type": "markdown",
      "source": [
        "#TREINANDO PERCEPTRONS"
      ]
    },
    {
      "metadata": {
        "id": "v7YEWpMiOIIo",
        "colab_type": "code",
        "outputId": "36e1c021-c18b-45b9-d4a3-bf3d23e66ec2",
        "colab": {
          "base_uri": "https://localhost:8080/",
          "height": 374
        }
      },
      "cell_type": "code",
      "source": [
        "\n",
        "plane_weights = training(plane_dataset_train,\"plane\")\n",
        "car_weights = training(car_dataset_train,\"car\")\n",
        "bird_weights = training(bird_dataset_train,\"bird\")\n",
        "cat_weights = training(cat_dataset_train,\"cat\")\n",
        "deer_weights = training(deer_dataset_train,\"deer\")\n",
        "dog_weights = training(dog_dataset_train,\"dog\")\n",
        "frog_weights = training(frog_dataset_train,\"frog\")\n",
        "horse_weights = training(horse_dataset_train,\"horse\")\n",
        "ship_weights = training(ship_dataset_train,\"ship\")\n",
        "truck_weights = training(truck_dataset_train,\"truck\")\n",
        "print(\"DONE TRAINING\")\n"
      ],
      "execution_count": 50,
      "outputs": [
        {
          "output_type": "stream",
          "text": [
            "plane   0.90004\n",
            "DONE\n",
            "car   0.90672\n",
            "DONE\n",
            "bird   0.9\n",
            "DONE\n",
            "cat   0.9003\n",
            "DONE\n",
            "deer   0.89996\n",
            "DONE\n",
            "dog   0.90364\n",
            "DONE\n",
            "frog   0.90008\n",
            "DONE\n",
            "horse   0.90594\n",
            "DONE\n",
            "ship   0.9\n",
            "DONE\n",
            "truck   0.90698\n",
            "DONE\n",
            "DONE TRAINING\n"
          ],
          "name": "stdout"
        }
      ]
    },
    {
      "metadata": {
        "id": "Xi6qRgEK7P7e",
        "colab_type": "text"
      },
      "cell_type": "markdown",
      "source": [
        "#AVALIANDO PERCEPTRONS"
      ]
    },
    {
      "metadata": {
        "id": "SVG6lezCeifr",
        "colab_type": "code",
        "colab": {
          "base_uri": "https://localhost:8080/",
          "height": 187
        },
        "outputId": "6bb54a6d-3be2-4ed1-8bbc-cc8db9edca67"
      },
      "cell_type": "code",
      "source": [
        "print(\"plane acc = \",evaluate(plane_weights[\"weights\"],plane_dataset_test))\n",
        "print(\"car acc = \",evaluate(car_weights['weights'],car_dataset_test))\n",
        "print(\"bird acc = \",evaluate(bird_weights[\"weights\"],bird_dataset_test))\n",
        "print(\"cat acc = \",evaluate(cat_weights[\"weights\"],cat_dataset_test))\n",
        "print(\"deer acc = \",evaluate(deer_weights[\"weights\"],deer_dataset_test))\n",
        "print(\"dog acc = \",evaluate(dog_weights[\"weights\"],dog_dataset_test))\n",
        "print(\"frog acc = \",evaluate(frog_weights[\"weights\"],frog_dataset_test))\n",
        "print(\"horse acc = \",evaluate(horse_weights[\"weights\"],horse_dataset_test))\n",
        "print(\"ship acc = \",evaluate(ship_weights[\"weights\"],ship_dataset_test))\n",
        "print(\"truck acc = \",evaluate(truck_weights[\"weights\"],truck_dataset_test))\n",
        "\n",
        "\n",
        "\n",
        "\n",
        "\n",
        "\n"
      ],
      "execution_count": 51,
      "outputs": [
        {
          "output_type": "stream",
          "text": [
            "plane acc =  0.8997\n",
            "car acc =  0.9047\n",
            "bird acc =  0.8996\n",
            "cat acc =  0.8995\n",
            "deer acc =  0.8999\n",
            "dog acc =  0.903\n",
            "frog acc =  0.8998\n",
            "horse acc =  0.903\n",
            "ship acc =  0.8972\n",
            "truck acc =  0.9012\n"
          ],
          "name": "stdout"
        }
      ]
    },
    {
      "metadata": {
        "id": "hl7cJ_P-75uZ",
        "colab_type": "code",
        "colab": {}
      },
      "cell_type": "code",
      "source": [
        "weights_all =[\n",
        "    plane_weights,\n",
        "    car_weights,\n",
        "    bird_weights,\n",
        "    cat_weights,\n",
        "    deer_weights,\n",
        "    dog_weights,\n",
        "    frog_weights,\n",
        "    horse_weights,\n",
        "    ship_weights,\n",
        "    truck_weights]\n"
      ],
      "execution_count": 0,
      "outputs": []
    },
    {
      "metadata": {
        "id": "1ByC6p2hkI5z",
        "colab_type": "text"
      },
      "cell_type": "markdown",
      "source": [
        "#TESTANDO OS PERCEPTRONS\n",
        "\n",
        "\n",
        "\n",
        "\n",
        "---\n",
        "\n",
        "\n"
      ]
    },
    {
      "metadata": {
        "id": "GoC6leF4m4VT",
        "colab_type": "code",
        "colab": {}
      },
      "cell_type": "code",
      "source": [
        "def softmax(L):\n",
        "    expL = np.exp(L)\n",
        "    sumExpL = sum(expL)\n",
        "    result = []\n",
        "    for i in expL:\n",
        "        result.append(i*1.0/sumExpL)\n",
        "    return result"
      ],
      "execution_count": 0,
      "outputs": []
    },
    {
      "metadata": {
        "id": "AXTfzxVcm6qj",
        "colab_type": "code",
        "colab": {
          "base_uri": "https://localhost:8080/",
          "height": 34
        },
        "outputId": "7fa5a529-3525-434c-caf2-399a66280905"
      },
      "cell_type": "code",
      "source": [
        "print(sum(softmax([0.1,0.3,0.9])))"
      ],
      "execution_count": 56,
      "outputs": [
        {
          "output_type": "stream",
          "text": [
            "1.0\n"
          ],
          "name": "stdout"
        }
      ]
    },
    {
      "metadata": {
        "id": "BYzOF-hAO8nx",
        "colab_type": "code",
        "colab": {
          "base_uri": "https://localhost:8080/",
          "height": 297
        },
        "outputId": "cf65ac02-316e-4688-83c0-bcb97373591b"
      },
      "cell_type": "code",
      "source": [
        "#testando com uma imagem qualquer\n",
        "\n",
        "import matplotlib.pyplot as plt\n",
        "\n",
        "\n",
        "classes = ['plane', 'car', 'bird', 'cat',\n",
        "           'deer', 'dog', 'frog', 'horse', 'ship', 'truck']\n",
        "index =1001\n",
        "img = grayscale_dataset_test[index][0]\n",
        "category =  grayscale_dataset_test[index][1]\n",
        "linear_img = img.reshape(img.shape[0]*img.shape[1],1) / 255\n",
        "inputs = np.append(linear_img,[1])\n",
        "preds = []\n",
        "for weights in weights_all:\n",
        "  pred = perceptron(inputs,weights[\"weights\"])\n",
        "  preds.append((pred,weights[\"label\"]))\n",
        "\n",
        "output= sorted(preds,reverse=True)\n",
        "\n",
        "print(output[0][1])\n",
        "plt.imshow(img, cmap='gray')\n",
        "plt.title(category)\n",
        "plt.show()\n",
        "\n"
      ],
      "execution_count": 73,
      "outputs": [
        {
          "output_type": "stream",
          "text": [
            "cat\n"
          ],
          "name": "stdout"
        },
        {
          "output_type": "display_data",
          "data": {
            "image/png": "[encoded data removed]",
            "text/plain": [
              "<Figure size 432x288 with 1 Axes>"
            ]
          },
          "metadata": {
            "tags": []
          }
        }
      ]
    },
    {
      "metadata": {
        "id": "RqCglP0ok5fl",
        "colab_type": "code",
        "colab": {
          "base_uri": "https://localhost:8080/",
          "height": 51
        },
        "outputId": "1bd945b2-029b-45ed-b574-3ef9a6e3360d"
      },
      "cell_type": "code",
      "source": [
        "#Testando com o dataset de treino e de teste\n",
        "\n",
        "wrong = 0\n",
        "for img,category in grayscale_dataset_train:\n",
        "  linear_img = img.reshape(img.shape[0]*img.shape[1],1) / 255\n",
        "  preds = []\n",
        "  inputs = np.append(linear_img,[1])\n",
        "  for weights in weights_all:\n",
        "    pred = perceptron(inputs,weights[\"weights\"])\n",
        "    preds.append((pred,weights[\"label\"]))\n",
        "    \n",
        "  output = sorted(preds)\n",
        "  output = list(reversed(output))\n",
        "\n",
        "  if category!=output[0][1]:\n",
        "    wrong+=1\n",
        "\n",
        "acc = (len(grayscale_dataset_train) -wrong)/len(grayscale_dataset_train) \n",
        "print(\"acuracia train = \",acc)\n",
        "\n",
        "\n",
        "wrong = 0\n",
        "for img,category in grayscale_dataset_test:\n",
        "  linear_img = img.reshape(img.shape[0]*img.shape[1],1) / 255\n",
        "  preds = []\n",
        "  inputs = np.append(linear_img,[1])\n",
        "  for weights in weights_all:\n",
        "    pred = perceptron(inputs,weights[\"weights\"])\n",
        "    preds.append((pred,weights[\"label\"]))\n",
        "  \n",
        "  output = sorted(preds)\n",
        "  output = list(reversed(output))\n",
        "\n",
        "  if category!=output[0][1]:\n",
        "    wrong+=1\n",
        "\n",
        "acc = (len(grayscale_dataset_test) -wrong)/len(grayscale_dataset_test) \n",
        "print(\"acuracia test = \",acc)"
      ],
      "execution_count": 78,
      "outputs": [
        {
          "output_type": "stream",
          "text": [
            "acuracia train =  0.27126\n",
            "acuracia test =  0.2588\n"
          ],
          "name": "stdout"
        }
      ]
    },
    {
      "metadata": {
        "id": "Yi5DlEdvO9GS",
        "colab_type": "code",
        "colab": {}
      },
      "cell_type": "code",
      "source": [
        ""
      ],
      "execution_count": 0,
      "outputs": []
    }
  ]
}