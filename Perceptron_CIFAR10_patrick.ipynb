{
  "nbformat": 4,
  "nbformat_minor": 0,
  "metadata": {
    "colab": {
      "name": "Perceptron CIFAR10 -patrick.ipynb",
      "version": "0.3.2",
      "provenance": [],
      "collapsed_sections": []
    },
    "kernelspec": {
      "name": "python3",
      "display_name": "Python 3"
    },
    "accelerator": "GPU"
  },
  "cells": [
    {
      "metadata": {
        "colab_type": "text",
        "id": "ZlwxmEcvy5jZ"
      },
      "cell_type": "markdown",
      "source": [
        "#PERCEPTRON CIFAR10\n"
      ]
    },
    {
      "metadata": {
        "colab_type": "code",
        "id": "UkHxvpH-oEjo",
        "outputId": "9cccbf7e-846f-482b-c12e-8271b63d63d2",
        "colab": {
          "base_uri": "https://localhost:8080/",
          "height": 34
        }
      },
      "cell_type": "code",
      "source": [
        "%matplotlib inline\n",
        "\n",
        "import torch\n",
        "import torchvision\n",
        "import numpy as np\n",
        "\n",
        "np.seterr(all='raise')"
      ],
      "execution_count": 0,
      "outputs": [
        {
          "output_type": "execute_result",
          "data": {
            "text/plain": [
              "{'divide': 'warn', 'invalid': 'warn', 'over': 'warn', 'under': 'ignore'}"
            ]
          },
          "metadata": {
            "tags": []
          },
          "execution_count": 1
        }
      ]
    },
    {
      "metadata": {
        "colab_type": "code",
        "id": "xmSyJ0q1odHr",
        "outputId": "d8e414e7-3025-441a-f4f5-0ed353e8e171",
        "colab": {
          "base_uri": "https://localhost:8080/",
          "height": 51
        }
      },
      "cell_type": "code",
      "source": [
        "# Carregar os datasets\n",
        "\n",
        "dataset_train = torchvision.datasets.CIFAR10(root='./data', train=True,\n",
        "                                        download=True)\n",
        "\n",
        "dataset_test = torchvision.datasets.CIFAR10(root='./data', train=False,\n",
        "                                        download=True)"
      ],
      "execution_count": 0,
      "outputs": [
        {
          "output_type": "stream",
          "text": [
            "\r0it [00:00, ?it/s]"
          ],
          "name": "stderr"
        },
        {
          "output_type": "stream",
          "text": [
            "Downloading https://www.cs.toronto.edu/~kriz/cifar-10-python.tar.gz to ./data/cifar-10-python.tar.gz\n"
          ],
          "name": "stdout"
        },
        {
          "output_type": "stream",
          "text": [
            " 99%|█████████▉| 169385984/170498071 [00:34<00:00, 14333015.03it/s]"
          ],
          "name": "stderr"
        },
        {
          "output_type": "stream",
          "text": [
            "Files already downloaded and verified\n"
          ],
          "name": "stdout"
        }
      ]
    },
    {
      "metadata": {
        "colab_type": "code",
        "id": "HYKS7PaDon3h",
        "colab": {}
      },
      "cell_type": "code",
      "source": [
        "classes = ('plane', 'car', 'bird', 'cat',\n",
        "           'deer', 'dog', 'frog', 'horse', 'ship', 'truck')"
      ],
      "execution_count": 0,
      "outputs": []
    },
    {
      "metadata": {
        "colab_type": "code",
        "id": "GdXOphS7oz1V",
        "outputId": "887ffcd1-cea4-4942-b391-a313a9280ce0",
        "colab": {
          "base_uri": "https://localhost:8080/",
          "height": 34
        }
      },
      "cell_type": "code",
      "source": [
        "print(len(dataset_train), len(dataset_test))"
      ],
      "execution_count": 0,
      "outputs": [
        {
          "output_type": "stream",
          "text": [
            "50000 10000\n"
          ],
          "name": "stdout"
        }
      ]
    },
    {
      "metadata": {
        "colab_type": "code",
        "id": "F68CyX4QpHUa",
        "colab": {}
      },
      "cell_type": "code",
      "source": [
        "# Converter para tons de cinza\n",
        "\n",
        "# Treino\n",
        "grayscale_dataset_train = []\n",
        "for img,label in dataset_train:\n",
        "    category = classes[label]\n",
        "    gray_npimg = np.array(img.convert('L'))\n",
        "    grayscale_dataset_train.append((gray_npimg,category))\n",
        "    \n",
        "# Teste\n",
        "grayscale_dataset_test = []\n",
        "for img,label in dataset_test:\n",
        "    category = classes[label]\n",
        "    gray_npimg = np.array(img.convert('L'))\n",
        "    grayscale_dataset_test.append((gray_npimg,category))    "
      ],
      "execution_count": 0,
      "outputs": []
    },
    {
      "metadata": {
        "colab_type": "code",
        "id": "X8IOYTvApKH8",
        "outputId": "9cba913c-d7ca-4181-814a-9255cacbe430",
        "colab": {
          "base_uri": "https://localhost:8080/",
          "height": 280
        }
      },
      "cell_type": "code",
      "source": [
        "# Mostrar uma imagem\n",
        "\n",
        "import matplotlib.pyplot as plt\n",
        "import numpy as np\n",
        "\n",
        "image_index = 1\n",
        "label = grayscale_dataset_train[image_index][1]\n",
        "npimg = grayscale_dataset_train[image_index][0]\n",
        "\n",
        "plt.imshow(npimg, cmap='gray')\n",
        "plt.title(label)\n",
        "plt.show()"
      ],
      "execution_count": 0,
      "outputs": [
        {
          "output_type": "display_data",
          "data": {
            "image/png": "[encoded data removed]",
            "text/plain": [
              "<Figure size 432x288 with 1 Axes>"
            ]
          },
          "metadata": {
            "tags": []
          }
        }
      ]
    },
    {
      "metadata": {
        "colab_type": "code",
        "id": "vbcZCLhEpS0_",
        "colab": {}
      },
      "cell_type": "code",
      "source": [
        "# Converter para vetores 1D\n",
        "\n",
        "# Para pensar: por que a divisão por 255 no código abaixo?\n",
        "\n",
        "linear_dataset_train = []\n",
        "target_labels = ('plane', 'car', 'ship', 'truck')\n",
        "for img,category in grayscale_dataset_train:\n",
        "    linear_img = img.reshape(img.shape[0]*img.shape[1],1) / 255\n",
        "    if category in target_labels:\n",
        "        label = 1\n",
        "    else:\n",
        "        label = 0\n",
        "    linear_dataset_train.append((linear_img,label))\n",
        "    \n",
        "linear_dataset_test = []\n",
        "target_labels = ('plane', 'car', 'ship', 'truck')\n",
        "for img,category in grayscale_dataset_test:\n",
        "    linear_img = img.reshape(img.shape[0]*img.shape[1],1) / 255\n",
        "    if category in target_labels:\n",
        "        label = 1\n",
        "    else:\n",
        "        label = 0\n",
        "    linear_dataset_test.append((linear_img,label))    "
      ],
      "execution_count": 0,
      "outputs": []
    },
    {
      "metadata": {
        "colab_type": "code",
        "id": "rd5m8tB-pXV-",
        "outputId": "3944a373-4841-4c4f-bdd9-8a5766669d44",
        "colab": {
          "base_uri": "https://localhost:8080/",
          "height": 34
        }
      },
      "cell_type": "code",
      "source": [
        "size = len(linear_dataset_train[0][0])\n",
        "print(size)"
      ],
      "execution_count": 0,
      "outputs": [
        {
          "output_type": "stream",
          "text": [
            "1024\n"
          ],
          "name": "stdout"
        }
      ]
    },
    {
      "metadata": {
        "colab_type": "text",
        "id": "TCinVN3Ppmnh"
      },
      "cell_type": "markdown",
      "source": [
        "# Perceptron"
      ]
    },
    {
      "metadata": {
        "colab_type": "code",
        "id": "Y77SWaDdpjuW",
        "colab": {}
      },
      "cell_type": "code",
      "source": [
        "def sigmoid(x):\n",
        "    return 1/(1+np.exp(-x))\n",
        "  \n",
        "def stepFunction(t):\n",
        "  if t >= 0.5:\n",
        "    return 1\n",
        "  else:\n",
        "    return 0\n",
        "\n",
        "def perceptron(inputs, weights):\n",
        "  value = np.dot(np.transpose(inputs), weights[:-1]) + weights[-1]\n",
        "  return sigmoid(value)\n",
        "  pass"
      ],
      "execution_count": 0,
      "outputs": []
    },
    {
      "metadata": {
        "colab_type": "code",
        "id": "ew-ozSBozN8P",
        "colab": {}
      },
      "cell_type": "code",
      "source": [
        "def correct_weights(weights,inputs,neta,error):\n",
        "  for i in range(len(weights)-1):\n",
        "    weights[i] +=inputs[i][0]*neta*error\n",
        "  weights[-1] +=error*neta\n",
        "  return weights"
      ],
      "execution_count": 0,
      "outputs": []
    },
    {
      "metadata": {
        "colab_type": "code",
        "id": "fk01Pl9opvoT",
        "colab": {}
      },
      "cell_type": "code",
      "source": [
        "def evaluate(weights,dataset):\n",
        "  error = 0\n",
        "   # Defina a métrica de avaliação do perceptron aqui (e.g. acurácia)\n",
        "  for img,label in dataset:\n",
        "    pred = perceptron(img,weights)\n",
        "    if(stepFunction(pred)!=label):\n",
        "      error+=1\n",
        "  ev = (len(dataset)-error) /len(dataset)\n",
        "  return ev\n",
        "\n",
        "  pass"
      ],
      "execution_count": 0,
      "outputs": []
    },
    {
      "metadata": {
        "id": "cJvafiX-Fowa",
        "colab_type": "code",
        "colab": {}
      },
      "cell_type": "code",
      "source": [
        ""
      ],
      "execution_count": 0,
      "outputs": []
    },
    {
      "metadata": {
        "colab_type": "code",
        "id": "1_liNe13pxV_",
        "outputId": "9ca53ccc-34ee-434f-ad81-3cb9e5a91a21",
        "colab": {
          "base_uri": "https://localhost:8080/",
          "height": 1734
        }
      },
      "cell_type": "code",
      "source": [
        "# Inicialização\n",
        "weights = (np.random.rand(1,size) - 0.5)[0]\n",
        "bias = (np.random.rand(1) - 0.5) \n",
        "weights = np.append(weights, bias) \n",
        "save_weights = []\n",
        "bestEvaluation = 0\n",
        "neta = 0.001\n",
        "np.random.shuffle(linear_dataset_train)\n",
        "  # Implemente o treino aqui (para separar as duas classes definidas)\n",
        "accuracies = []\n",
        "for epoch in range(100):\n",
        "      \n",
        "  acc = evaluate(weights,linear_dataset_train) \n",
        "  accuracies.append(acc)\n",
        "  weights-=neta*acc\n",
        "  print(epoch,\" \",acc)  \n",
        "  \n",
        "print(\"DONE\")\n",
        "\n",
        "    \n",
        "        \n",
        "    #pass"
      ],
      "execution_count": 0,
      "outputs": [
        {
          "output_type": "stream",
          "text": [
            "0   0.58982\n",
            "1   0.59166\n",
            "2   0.59324\n",
            "3   0.59512\n",
            "4   0.59634\n",
            "5   0.59752\n",
            "6   0.59784\n",
            "7   0.59842\n",
            "8   0.59872\n",
            "9   0.59922\n",
            "10   0.5993\n",
            "11   0.59944\n",
            "12   0.59964\n",
            "13   0.59956\n",
            "14   0.59952\n",
            "15   0.59942\n",
            "16   0.59968\n",
            "17   0.59966\n",
            "18   0.59974\n",
            "19   0.59982\n",
            "20   0.5998\n",
            "21   0.59982\n",
            "22   0.59984\n",
            "23   0.59988\n",
            "24   0.5999\n",
            "25   0.59994\n",
            "26   0.59994\n",
            "27   0.59994\n",
            "28   0.59998\n",
            "29   0.6\n",
            "30   0.59998\n",
            "31   0.6\n",
            "32   0.6\n",
            "33   0.60002\n",
            "34   0.60002\n",
            "35   0.60002\n",
            "36   0.60002\n",
            "37   0.60002\n",
            "38   0.6\n",
            "39   0.6\n",
            "40   0.6\n",
            "41   0.6\n",
            "42   0.6\n",
            "43   0.6\n",
            "44   0.6\n",
            "45   0.6\n",
            "46   0.6\n",
            "47   0.6\n",
            "48   0.6\n",
            "49   0.6\n",
            "50   0.6\n",
            "51   0.6\n",
            "52   0.6\n",
            "53   0.6\n",
            "54   0.6\n",
            "55   0.6\n",
            "56   0.6\n",
            "57   0.6\n",
            "58   0.6\n",
            "59   0.6\n",
            "60   0.6\n",
            "61   0.6\n",
            "62   0.6\n",
            "63   0.6\n",
            "64   0.6\n",
            "65   0.6\n",
            "66   0.6\n",
            "67   0.6\n",
            "68   0.6\n",
            "69   0.6\n",
            "70   0.6\n",
            "71   0.6\n",
            "72   0.6\n",
            "73   0.6\n",
            "74   0.6\n",
            "75   0.6\n",
            "76   0.6\n",
            "77   0.6\n",
            "78   0.6\n",
            "79   0.6\n",
            "80   0.6\n",
            "81   0.6\n",
            "82   0.6\n",
            "83   0.6\n",
            "84   0.6\n",
            "85   0.6\n",
            "86   0.6\n",
            "87   0.6\n",
            "88   0.6\n",
            "89   0.6\n",
            "90   0.6\n",
            "91   0.6\n",
            "92   0.6\n",
            "93   0.6\n",
            "94   0.6\n",
            "95   0.6\n",
            "96   0.6\n",
            "97   0.6\n",
            "98   0.6\n",
            "99   0.6\n",
            "DONE\n"
          ],
          "name": "stdout"
        }
      ]
    },
    {
      "metadata": {
        "colab_type": "code",
        "id": "2BshiXcCpz_J",
        "outputId": "f8808482-a736-4f67-cce3-7bf9bf5d8bc3",
        "colab": {
          "base_uri": "https://localhost:8080/",
          "height": 34
        }
      },
      "cell_type": "code",
      "source": [
        "# Avalie o modelo treinado aqui\n",
        "# Como a acurácia no conjunto de teste se compara com a acurácia obtida no conjunto de treino?\n",
        " #list(map(lambda x: x**2, items))\n",
        "#preds = perceptron()\n",
        "\n",
        "acc = evaluate(weights,linear_dataset_test)\n",
        "print(\"acc = \",acc)\n"
      ],
      "execution_count": 0,
      "outputs": [
        {
          "output_type": "stream",
          "text": [
            "acc =  0.6\n"
          ],
          "name": "stdout"
        }
      ]
    },
    {
      "metadata": {
        "id": "i8OU_UQgegeX",
        "colab_type": "text"
      },
      "cell_type": "markdown",
      "source": [
        ""
      ]
    },
    {
      "metadata": {
        "colab_type": "code",
        "id": "ND2dypVep2Gc",
        "outputId": "a429a272-b4ba-43d1-ebc6-627ab046584a",
        "colab": {
          "base_uri": "https://localhost:8080/",
          "height": 282
        }
      },
      "cell_type": "code",
      "source": [
        "# Caso queiram plotar alguma coisa\n",
        "\n",
        "import matplotlib.pyplot as plt\n",
        "plt.plot(accuracies)"
      ],
      "execution_count": 0,
      "outputs": [
        {
          "output_type": "execute_result",
          "data": {
            "text/plain": [
              "[<matplotlib.lines.Line2D at 0x7f6b5cf5ce10>]"
            ]
          },
          "metadata": {
            "tags": []
          },
          "execution_count": 15
        },
        {
          "output_type": "display_data",
          "data": {
            "image/png": "[encoded data removed]",
            "text/plain": [
              "<Figure size 432x288 with 1 Axes>"
            ]
          },
          "metadata": {
            "tags": []
          }
        }
      ]
    },
    {
      "metadata": {
        "colab_type": "text",
        "id": "0n1vFfF8p6-f"
      },
      "cell_type": "markdown",
      "source": [
        "# Classificando classes individuais"
      ]
    },
    {
      "metadata": {
        "colab_type": "code",
        "id": "YqalUGRUp3Uj",
        "colab": {}
      },
      "cell_type": "code",
      "source": [
        "def data(target_labels,grayscale_dataset_train,grayscale_dataset_test):\n",
        "  linear_dataset_train = []\n",
        "  linear_dataset_test = []\n",
        "  for img,category in grayscale_dataset_train:\n",
        "    linear_img = img.reshape(img.shape[0]*img.shape[1],1) / 255\n",
        "    if category in target_labels:\n",
        "        label = 1\n",
        "    else:\n",
        "        label = 0\n",
        "    linear_dataset_train.append((linear_img,label))\n",
        "    \n",
        "  for img,category in grayscale_dataset_test:\n",
        "    linear_img = img.reshape(img.shape[0]*img.shape[1],1) / 255\n",
        "    if category in target_labels:\n",
        "        label = 1\n",
        "    else:\n",
        "        label = 0\n",
        "    linear_dataset_test.append((linear_img,label))\n",
        "  return linear_dataset_train,linear_dataset_test\n"
      ],
      "execution_count": 0,
      "outputs": []
    },
    {
      "metadata": {
        "id": "XdvfmvXp5k4h",
        "colab_type": "text"
      },
      "cell_type": "markdown",
      "source": [
        "#DATASETS"
      ]
    },
    {
      "metadata": {
        "id": "fH3bm-QBeyPw",
        "colab_type": "code",
        "colab": {}
      },
      "cell_type": "code",
      "source": [
        "def training(linear_dataset_train,label_set):\n",
        "  weights = (np.random.rand(1,size) - 0.5)[0]\n",
        "  bias = (np.random.rand(1) - 0.5) \n",
        "  weights = np.append(weights, bias) \n",
        "  save_weights = []\n",
        "  bestEvaluation = 0\n",
        "  neta = 0.001\n",
        "  np.random.shuffle(linear_dataset_train)\n",
        "  # Implemente o treino aqui (para separar as duas classes definidas)\n",
        "  accuracies = []\n",
        "  for epoch in range(100): \n",
        " \n",
        "    acc = evaluate(weights,linear_dataset_train) \n",
        "    accuracies.append(acc)\n",
        "    weights-=neta*acc\n",
        "    if(acc>bestEvaluation):\n",
        "      bestEvaluation = acc\n",
        "      best_weights = weights\n",
        "  print(label_set,\" \",bestEvaluation)  \n",
        "  \n",
        "  print(\"DONE\")\n",
        "  return best_weights"
      ],
      "execution_count": 0,
      "outputs": []
    },
    {
      "metadata": {
        "colab_type": "code",
        "id": "9MfgTqGap6Tm",
        "outputId": "de8a6a88-f697-466a-804b-71c6101aa1e1",
        "colab": {
          "base_uri": "https://localhost:8080/",
          "height": 34
        }
      },
      "cell_type": "code",
      "source": [
        "plane_dataset_train,plane_dataset_test = data([\"plane\"],grayscale_dataset_train,grayscale_dataset_test)\n",
        "car_dataset_train,car_dataset_test = data([\"car\"],grayscale_dataset_train,grayscale_dataset_test)\n",
        "bird_dataset_train,bird_dataset_test = data([\"bird\"],grayscale_dataset_train,grayscale_dataset_test)\n",
        "cat_dataset_train,cat_dataset_test = data([\"cat\"],grayscale_dataset_train,grayscale_dataset_test)\n",
        "deer_dataset_train,deer_dataset_test = data([\"deer\"],grayscale_dataset_train,grayscale_dataset_test)\n",
        "dog_dataset_train,dog_dataset_test = data([\"dog\"],grayscale_dataset_train,grayscale_dataset_test)\n",
        "frog_dataset_train,frog_dataset_test = data([\"frog\"],grayscale_dataset_train,grayscale_dataset_test)\n",
        "horse_dataset_train,horse_dataset_test = data([\"horse\"],grayscale_dataset_train,grayscale_dataset_test)\n",
        "ship_dataset_train,ship_dataset_test = data([\"ship\"],grayscale_dataset_train,grayscale_dataset_test)\n",
        "truck_dataset_train,truck_dataset_test = data([\"truck\"],grayscale_dataset_train,grayscale_dataset_test)\n",
        "print(\"DONE DATASETS\")\n"
      ],
      "execution_count": 0,
      "outputs": [
        {
          "output_type": "stream",
          "text": [
            "DONE DATASETS\n"
          ],
          "name": "stdout"
        }
      ]
    },
    {
      "metadata": {
        "id": "a6Chugpr5y1i",
        "colab_type": "text"
      },
      "cell_type": "markdown",
      "source": [
        "#TREINO"
      ]
    },
    {
      "metadata": {
        "id": "v7YEWpMiOIIo",
        "colab_type": "code",
        "outputId": "d9ef84dc-2b92-43a8-a456-a217a77bf0bd",
        "colab": {
          "base_uri": "https://localhost:8080/",
          "height": 374
        }
      },
      "cell_type": "code",
      "source": [
        "\n",
        "plane_weights = training(plane_dataset_train,\"plane\")\n",
        "car_weights = training(car_dataset_train,\"car\")\n",
        "bird_weights = training(bird_dataset_train,\"bird\")\n",
        "cat_weights = training(cat_dataset_train,\"cat\")\n",
        "deer_weights = training(deer_dataset_train,\"deer\")\n",
        "dog_weights = training(dog_dataset_train,\"dog\")\n",
        "frog_weights = training(frog_dataset_train,\"frog\")\n",
        "horse_weights = training(horse_dataset_train,\"horse\")\n",
        "ship_weights = training(ship_dataset_train,\"ship\")\n",
        "truck_weights = training(truck_dataset_train,\"truck\")\n",
        "print(\"DONE TRAINING\")\n"
      ],
      "execution_count": 37,
      "outputs": [
        {
          "output_type": "stream",
          "text": [
            "plane   0.9\n",
            "DONE\n",
            "car   0.9\n",
            "DONE\n",
            "bird   0.9\n",
            "DONE\n",
            "cat   0.9\n",
            "DONE\n",
            "deer   0.9\n",
            "DONE\n",
            "dog   0.90002\n",
            "DONE\n",
            "frog   0.9\n",
            "DONE\n",
            "horse   0.9\n",
            "DONE\n",
            "ship   0.9\n",
            "DONE\n",
            "truck   0.9\n",
            "DONE\n",
            "DONE TRAINING\n"
          ],
          "name": "stdout"
        }
      ]
    },
    {
      "metadata": {
        "id": "Xi6qRgEK7P7e",
        "colab_type": "text"
      },
      "cell_type": "markdown",
      "source": [
        "#AVALIANDO PERCEPTRONS"
      ]
    },
    {
      "metadata": {
        "id": "SVG6lezCeifr",
        "colab_type": "code",
        "outputId": "ff629502-4615-463e-9c1f-8be263e18de7",
        "colab": {
          "base_uri": "https://localhost:8080/",
          "height": 187
        }
      },
      "cell_type": "code",
      "source": [
        "print(\"plane acc = \",evaluate(plane_weights,plane_dataset_test))\n",
        "print(\"car acc = \",evaluate(car_weights,car_dataset_test))\n",
        "print(\"bird acc = \",evaluate(bird_weights,bird_dataset_test))\n",
        "print(\"cat acc = \",evaluate(cat_weights,cat_dataset_test))\n",
        "print(\"deer acc = \",evaluate(deer_weights,deer_dataset_test))\n",
        "print(\"dog acc = \",evaluate(dog_weights,dog_dataset_test))\n",
        "print(\"frog acc = \",evaluate(frog_weights,frog_dataset_test))\n",
        "print(\"horse acc = \",evaluate(horse_weights,horse_dataset_test))\n",
        "print(\"ship acc = \",evaluate(ship_weights,ship_dataset_test))\n",
        "print(\"truck acc = \",evaluate(truck_weights,truck_dataset_test))\n",
        "\n",
        "\n",
        "\n",
        "\n",
        "\n",
        "\n"
      ],
      "execution_count": 38,
      "outputs": [
        {
          "output_type": "stream",
          "text": [
            "plane acc =  0.9\n",
            "car acc =  0.9\n",
            "bird acc =  0.9\n",
            "cat acc =  0.9\n",
            "deer acc =  0.9\n",
            "dog acc =  0.9\n",
            "frog acc =  0.9\n",
            "horse acc =  0.9\n",
            "ship acc =  0.9\n",
            "truck acc =  0.9\n"
          ],
          "name": "stdout"
        }
      ]
    },
    {
      "metadata": {
        "id": "hl7cJ_P-75uZ",
        "colab_type": "code",
        "colab": {}
      },
      "cell_type": "code",
      "source": [
        "weights_all =[\n",
        "    plane_weights,\n",
        "    car_weights,\n",
        "    bird_weights,\n",
        "    cat_weights,\n",
        "    deer_weights,\n",
        "    dog_weights,\n",
        "    frog_weights,\n",
        "    horse_weights,\n",
        "    ship_weights,\n",
        "    truck_weights]\n"
      ],
      "execution_count": 0,
      "outputs": []
    },
    {
      "metadata": {
        "id": "1ByC6p2hkI5z",
        "colab_type": "text"
      },
      "cell_type": "markdown",
      "source": [
        "#TESTANDO OS PERCEPTRONS\n",
        "\n",
        "\n",
        "\n",
        "\n",
        "---\n",
        "\n",
        "\n"
      ]
    },
    {
      "metadata": {
        "id": "GoC6leF4m4VT",
        "colab_type": "code",
        "colab": {}
      },
      "cell_type": "code",
      "source": [
        "def softmax(L):\n",
        "    expL = np.exp(L)\n",
        "    sumExpL = sum(expL)\n",
        "    result = []\n",
        "    for i in expL:\n",
        "        result.append(i*1.0/sumExpL)\n",
        "    return result"
      ],
      "execution_count": 0,
      "outputs": []
    },
    {
      "metadata": {
        "id": "AXTfzxVcm6qj",
        "colab_type": "code",
        "outputId": "de88cfca-14dd-44c9-bd35-08826d696b25",
        "colab": {
          "base_uri": "https://localhost:8080/",
          "height": 34
        }
      },
      "cell_type": "code",
      "source": [
        "print(sum(softmax([0.1,0.3,0.9])))"
      ],
      "execution_count": 41,
      "outputs": [
        {
          "output_type": "stream",
          "text": [
            "1.0\n"
          ],
          "name": "stdout"
        }
      ]
    },
    {
      "metadata": {
        "id": "BYzOF-hAO8nx",
        "colab_type": "code",
        "outputId": "28068140-1763-42de-d1a6-e35bdbc5ecc2",
        "colab": {
          "base_uri": "https://localhost:8080/",
          "height": 297
        }
      },
      "cell_type": "code",
      "source": [
        "import matplotlib.pyplot as plt\n",
        "\n",
        "\n",
        "classes = ['plane', 'car', 'bird', 'cat',\n",
        "           'deer', 'dog', 'frog', 'horse', 'ship', 'truck']\n",
        "index =107\n",
        "img = grayscale_dataset_test[index][0]\n",
        "category =  grayscale_dataset_test[index][1]\n",
        "linear_img = img.reshape(img.shape[0]*img.shape[1],1) / 255\n",
        "    \n",
        "preds = []\n",
        "for i in range(len(weights_all)):\n",
        "  pred = perceptron(linear_img,weights_all[i])\n",
        "  preds.append(pred[0])\n",
        "\n",
        "\n",
        "preds = softmax(preds)\n",
        "print(classes[preds.index(max(preds))])\n",
        "plt.imshow(img, cmap='gray')\n",
        "plt.title(category)\n",
        "plt.show()\n",
        "\n"
      ],
      "execution_count": 42,
      "outputs": [
        {
          "output_type": "stream",
          "text": [
            "cat\n"
          ],
          "name": "stdout"
        },
        {
          "output_type": "display_data",
          "data": {
            "image/png": "[encoded data removed]",
            "text/plain": [
              "<Figure size 432x288 with 1 Axes>"
            ]
          },
          "metadata": {
            "tags": []
          }
        }
      ]
    },
    {
      "metadata": {
        "id": "RqCglP0ok5fl",
        "colab_type": "code",
        "outputId": "9c191d90-b7b8-4c22-d15b-9ec728aa64ae",
        "colab": {
          "base_uri": "https://localhost:8080/",
          "height": 34
        }
      },
      "cell_type": "code",
      "source": [
        "wrong = 0\n",
        "for img,category in grayscale_dataset_test:\n",
        "  linear_img = img.reshape(img.shape[0]*img.shape[1],1) / 255\n",
        "  preds = []\n",
        "  for i in range(len(weights_all)):\n",
        "    pred = perceptron(linear_img,weights_all[i])\n",
        "    preds.append(pred[0])\n",
        "    \n",
        "  preds = softmax(preds)  \n",
        "  if category not in classes[preds.index(max(preds))]:\n",
        "    wrong+=1\n",
        "\n",
        "acc = (len(grayscale_dataset_test) -wrong)/len(grayscale_dataset_test) \n",
        "print(\"acuracia = \",acc)"
      ],
      "execution_count": 43,
      "outputs": [
        {
          "output_type": "stream",
          "text": [
            "acuracia =  0.1218\n"
          ],
          "name": "stdout"
        }
      ]
    },
    {
      "metadata": {
        "id": "Yi5DlEdvO9GS",
        "colab_type": "code",
        "colab": {}
      },
      "cell_type": "code",
      "source": [
        ""
      ],
      "execution_count": 0,
      "outputs": []
    }
  ]
}