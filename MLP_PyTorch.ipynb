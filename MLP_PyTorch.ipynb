{
  "nbformat": 4,
  "nbformat_minor": 0,
  "metadata": {
    "colab": {
      "name": "MLP PyTorch.ipynb",
      "version": "0.3.2",
      "provenance": [],
      "collapsed_sections": []
    },
    "kernelspec": {
      "name": "python3",
      "display_name": "Python 3"
    },
    "accelerator": "GPU"
  },
  "cells": [
    {
      "metadata": {
        "id": "RV0TVGpZzm3t",
        "colab_type": "text"
      },
      "cell_type": "markdown",
      "source": [
        "# Objetivos deste trabalho\n",
        "- Familiarizar-se com a biblioteca PyTorch\n",
        "- Definir arquiteturas MLP simples em PyTorch\n",
        "- Treinar utilizando CIFAR10, testando diferentes arquiteturas, parâmetros, funções de loss e otimizadores\n",
        "- Comparar os resultados obtidos utilizando apenas Perpceptrons"
      ]
    },
    {
      "metadata": {
        "id": "bLuAUO2Jzm3x",
        "colab_type": "code",
        "colab": {}
      },
      "cell_type": "code",
      "source": [
        "%matplotlib inline\n",
        "\n",
        "import numpy as np \n",
        "import matplotlib.pyplot as plt\n",
        "\n",
        "import torch\n",
        "import torch.nn as nn\n",
        "import torch.nn.functional as F\n",
        "from torch.utils.data import DataLoader\n",
        "\n",
        "import torchvision\n",
        "import torchvision.transforms as transforms"
      ],
      "execution_count": 0,
      "outputs": []
    },
    {
      "metadata": {
        "id": "Zs24gZclzm35",
        "colab_type": "code",
        "outputId": "23855d20-c363-429b-9168-26cee340607c",
        "colab": {
          "base_uri": "https://localhost:8080/",
          "height": 51
        }
      },
      "cell_type": "code",
      "source": [
        "# Carregar os datasets\n",
        "\n",
        "transform=transforms.Compose([\n",
        "    transforms.Grayscale(num_output_channels=1),\n",
        "    transforms.ToTensor()\n",
        "])\n",
        "\n",
        "dataset_train = torchvision.datasets.CIFAR10(root='./data', train=True,\n",
        "                                        download=True, transform=transform)\n",
        "\n",
        "dataset_test = torchvision.datasets.CIFAR10(root='./data', train=False,\n",
        "                                        download=True, transform=transform)"
      ],
      "execution_count": 0,
      "outputs": [
        {
          "output_type": "stream",
          "text": [
            "Files already downloaded and verified\n",
            "Files already downloaded and verified\n"
          ],
          "name": "stdout"
        }
      ]
    },
    {
      "metadata": {
        "id": "KMthevHMzm4B",
        "colab_type": "code",
        "outputId": "647c2bd7-8327-4221-8dfe-5a8f45eaeda5",
        "colab": {
          "base_uri": "https://localhost:8080/",
          "height": 51
        }
      },
      "cell_type": "code",
      "source": [
        "train_loader = DataLoader(dataset=dataset_train, shuffle=True,batch_size=10)\n",
        "test_loader = DataLoader(dataset=dataset_test, shuffle=False)\n",
        "\n",
        "dataiter = iter(train_loader)\n",
        "images, labels = dataiter.next()\n",
        "print(images.size())\n",
        "device = torch.device(\"cuda:0\" if torch.cuda.is_available() else \"cpu\")\n",
        "print(device)"
      ],
      "execution_count": 0,
      "outputs": [
        {
          "output_type": "stream",
          "text": [
            "torch.Size([10, 1, 32, 32])\n",
            "cuda:0\n"
          ],
          "name": "stdout"
        }
      ]
    },
    {
      "metadata": {
        "id": "FD5BNS7jzm4E",
        "colab_type": "code",
        "colab": {}
      },
      "cell_type": "code",
      "source": [
        "# Definir a arquitetura MLP\n",
        "\n",
        "class MLP(nn.ModuleList):\n",
        "  def __init__(self):\n",
        "    super(MLP, self).__init__()\n",
        "    self.fc1 = nn.Linear(32*32,100)\n",
        "    self.fc2 = nn.Linear(100,100)\n",
        "    self.fc3 = nn.Linear(100, 10)\n",
        "       \n",
        "\n",
        "       \n",
        "       \n",
        "  def forward(self, x):\n",
        "    x = x.view(-1, 32*32)\n",
        "    x = F.relu(self.fc1(x))\n",
        "    x = F.relu(self.fc2(x))\n",
        "    x = F.log_softmax(self.fc3(x),dim =1)\n",
        "    return x"
      ],
      "execution_count": 0,
      "outputs": []
    },
    {
      "metadata": {
        "id": "XYH4oxPVzm4I",
        "colab_type": "code",
        "colab": {}
      },
      "cell_type": "code",
      "source": [
        "class MLP2(nn.ModuleList):\n",
        "  def __init__(self):\n",
        "    super(MLP2, self).__init__()\n",
        "    self.fc1 = nn.Linear(32*32,100)\n",
        "    self.fc2 = nn.Linear(100,100)\n",
        "    self.fc3 = nn.Linear(100, 10)\n",
        "    self.activation_function = nn.Sigmoid()\n",
        "  def forward(self, x):\n",
        "    x = x.view(-1, 32*32)\n",
        "    x = self.activation_function(self.fc1(x))\n",
        "    x = self.activation_function(self.fc2(x))\n",
        "    x =F.log_softmax(self.fc3(x),dim =1)\n",
        "    return x\n",
        "      \n",
        "\n"
      ],
      "execution_count": 0,
      "outputs": []
    },
    {
      "metadata": {
        "id": "al7KPmdW9lCR",
        "colab_type": "code",
        "colab": {}
      },
      "cell_type": "code",
      "source": [
        "class MLP3(nn.ModuleList):\n",
        "  def __init__(self):\n",
        "    super(MLP3, self).__init__()\n",
        "    self.fc1 = nn.Linear(32*32,100)\n",
        "    self.fc2 = nn.Linear(100,100)\n",
        "    self.fc3 = nn.Linear(100,100)\n",
        "    self.fc4 = nn.Linear(100, 10)\n",
        "       \n",
        "\n",
        "       \n",
        "        \n",
        "  def forward(self, x):\n",
        "    x = x.view(-1, 32*32)\n",
        "    x = F.relu(self.fc1(x))\n",
        "    x = F.relu(self.fc2(x))\n",
        "    x = F.relu(self.fc3(x))\n",
        "    x =F.log_softmax(self.fc4(x),dim =1)\n",
        "       \n",
        "\n",
        "    return x\n",
        "      "
      ],
      "execution_count": 0,
      "outputs": []
    },
    {
      "metadata": {
        "id": "iGNWftPi3Q9q",
        "colab_type": "code",
        "colab": {}
      },
      "cell_type": "code",
      "source": [
        "\n",
        "class MLP4(nn.ModuleList):\n",
        "  def __init__(self):\n",
        "    super(MLP4, self).__init__()\n",
        "    self.fc1 = nn.Linear(32*32,256)\n",
        "    self.fc2 = nn.Linear(256,128)\n",
        "    self.fc3 = nn.Linear(128,64)\n",
        "    self.fc4 = nn.Linear(64, 10)\n",
        "       \n",
        "\n",
        "       \n",
        "      \n",
        "  def forward(self, x):\n",
        "    x = x.view(-1, 32*32)\n",
        "    x = F.relu(self.fc1(x))\n",
        "    x = F.relu(self.fc2(x))\n",
        "    x = F.relu(self.fc3(x))\n",
        "    x =F.log_softmax(self.fc4(x),dim =1)\n",
        "       \n",
        "\n",
        "    return x\n"
      ],
      "execution_count": 0,
      "outputs": []
    },
    {
      "metadata": {
        "id": "Up1Mk2aTAtyj",
        "colab_type": "code",
        "colab": {}
      },
      "cell_type": "code",
      "source": [
        "def one_hot(labels, shape):\n",
        "    o_hot = np.zeros(shape)\n",
        "    o_hot[labels] = 1\n",
        "    return o_hot"
      ],
      "execution_count": 0,
      "outputs": []
    },
    {
      "metadata": {
        "id": "CyX-1qmi4_H2",
        "colab_type": "text"
      },
      "cell_type": "markdown",
      "source": [
        "#Treinamento"
      ]
    },
    {
      "metadata": {
        "id": "-7Wn7VDlzm4P",
        "colab_type": "code",
        "colab": {}
      },
      "cell_type": "code",
      "source": [
        "# Realizar o treinamento aqui\n",
        "def train(epochs,train_loss,test_loss,optimizer,loss_fn,test_acc,model):\n",
        "  \n",
        "  #print(optimizer)\n",
        "  #print(model)\n",
        "  #print(loss_fn)\n",
        "  for epoch in range(epochs):\n",
        "    model.train() \n",
        "    train_losses = []   \n",
        "    for i, (images,labels) in enumerate(train_loader):\n",
        "      images,labels = images.to(device),labels.to(device)\n",
        "      optimizer.zero_grad()\n",
        "      outputs = model(images)\n",
        "      loss = loss_fn(outputs,labels)\n",
        "      loss.backward()\n",
        "      optimizer.step()\n",
        "      train_losses.append(loss.item())\n",
        "    \n",
        "    train_loss.append(np.mean(train_losses))\n",
        "    \n",
        "  #  print('epoch : {}, train loss : {:.4f}'\\\n",
        "     #    .format(epoch+1, np.mean(train_losses)))\n",
        "    validation(loss_fn,test_loss,test_acc,model)\n",
        "    \n",
        "  "
      ],
      "execution_count": 0,
      "outputs": []
    },
    {
      "metadata": {
        "id": "MV0zLnqu5FHz",
        "colab_type": "text"
      },
      "cell_type": "markdown",
      "source": [
        "#Avaliação "
      ]
    },
    {
      "metadata": {
        "id": "XL8UNbZGI5sw",
        "colab_type": "code",
        "colab": {}
      },
      "cell_type": "code",
      "source": [
        "\n",
        "# Avaliar o modelo aqui (no conjunto de teste)\n",
        "def validation(loss_fn,test_loss,test_acc,model):\n",
        "  model.eval()\n",
        "  correct =0\n",
        "  total = 0\n",
        "  loss=0\n",
        "  accuracy=0\n",
        "  test_losses = []\n",
        "  for i, (images, labels) in enumerate(test_loader):\n",
        "    images,labels = images.to(device),labels.to(device)\n",
        "    outputs = model(images)\n",
        "    loss = loss_fn(outputs, labels)\n",
        "    test_losses.append(loss.item())  \n",
        "    _, predicted = torch.max(outputs.data, 1)\n",
        "    correct += (predicted == labels).sum().item()\n",
        "    total += labels.size(0)\n",
        "  \n",
        "   \n",
        "  accuracy = 100*correct/total\n",
        "  test_acc.append(accuracy)\n",
        "  test_loss.append(np.mean(test_losses))\n",
        "  #print(' test_loss : {:.4f} , test_ acc : {:.2f}%'\\\n",
        "       # .format(np.mean(test_losses),accuracy))"
      ],
      "execution_count": 0,
      "outputs": []
    },
    {
      "metadata": {
        "id": "rYZIAmfhpvZ3",
        "colab_type": "text"
      },
      "cell_type": "markdown",
      "source": [
        "#definindo otimizadores e funçoes loss\n"
      ]
    },
    {
      "metadata": {
        "id": "MIWxjXt-p5et",
        "colab_type": "code",
        "outputId": "83b132d4-dd8a-4835-9f9b-0c63491e1bfc",
        "colab": {
          "base_uri": "https://localhost:8080/",
          "height": 102
        }
      },
      "cell_type": "code",
      "source": [
        "\n",
        "model1 = MLP().to(device)\n",
        "model2 = MLP().to(device)\n",
        "model3 = MLP().to(device)\n",
        "print(model1)\n"
      ],
      "execution_count": 0,
      "outputs": [
        {
          "output_type": "stream",
          "text": [
            "MLP(\n",
            "  (fc1): Linear(in_features=1024, out_features=100, bias=True)\n",
            "  (fc2): Linear(in_features=100, out_features=100, bias=True)\n",
            "  (fc3): Linear(in_features=100, out_features=10, bias=True)\n",
            ")\n"
          ],
          "name": "stdout"
        }
      ]
    },
    {
      "metadata": {
        "id": "GeqKKDDoptDM",
        "colab_type": "code",
        "colab": {}
      },
      "cell_type": "code",
      "source": [
        "# Definir otimizador e loss\n",
        "# Nota: testar outros otimizadores e funções de loss (em particular cross entropy)\n",
        "\n",
        "optimizerSGD = torch.optim.SGD(model1.parameters(), lr = 0.01,momentum=0.5)\n",
        "optimizerADAM = torch.optim.Adam(model2.parameters(), lr=0.00001)\n",
        "optimizerRMS = torch.optim.RMSprop(model3.parameters(), lr=0.01)\n",
        "\n",
        "loss_cross =  nn.CrossEntropyLoss()\n",
        "loss_nll = nn.NLLLoss()"
      ],
      "execution_count": 0,
      "outputs": []
    },
    {
      "metadata": {
        "id": "ZzdYdIwc44PM",
        "colab_type": "text"
      },
      "cell_type": "markdown",
      "source": [
        "#testando diferentes otimizadores"
      ]
    },
    {
      "metadata": {
        "id": "UpUav-KdgY1s",
        "colab_type": "code",
        "outputId": "240a076f-ceed-43e9-d800-f3dca3586f14",
        "colab": {
          "base_uri": "https://localhost:8080/",
          "height": 105
        }
      },
      "cell_type": "code",
      "source": [
        "\n",
        "\n",
        "test_loss = []\n",
        "train_loss = []\n",
        "test_acc_SGD = []\n",
        "test_acc_ADAM = []\n",
        "test_acc_RMS = []\n",
        "epochs = 50\n",
        "\n",
        "\n",
        "print(\"SGD\")\n",
        "train(epochs,train_loss,test_loss,optimizer = optimizerSGD, loss_fn = loss_cross,test_acc =test_acc_SGD,model = model1)\n",
        "print(\"ADAM\")\n",
        "train(epochs,train_loss,test_loss,optimizer = optimizerADAM, loss_fn = loss_cross,test_acc =test_acc_ADAM,model = model2)\n",
        "print(\"RMS\")\n",
        "train(epochs,train_loss,test_loss,optimizer = optimizerRMS, loss_fn = loss_cross,test_acc =test_acc_RMS,model = model3)\n",
        "print(test_acc_SGD)\n",
        "\n",
        "  "
      ],
      "execution_count": 400,
      "outputs": [
        {
          "output_type": "stream",
          "text": [
            "SGD\n",
            "ADAM\n",
            "RMS\n",
            "[29.66, 34.27, 34.82, 36.8, 37.01, 39.21, 39.49, 41.04, 38.94, 39.78, 40.43, 41.63, 39.07, 42.31, 41.4, 41.34, 42.22, 41.54, 42.54, 42.6, 42.72, 42.26, 42.46, 42.14, 42.56, 42.02, 42.48, 42.56, 42.99, 42.64, 43.32, 41.91, 42.02, 42.59, 42.08, 42.56, 42.12, 42.2, 43.09, 42.22, 43.05, 42.16, 41.71, 42.08, 42.8, 41.78, 42.56, 41.45, 42.5, 42.57]\n"
          ],
          "name": "stdout"
        }
      ]
    },
    {
      "metadata": {
        "id": "kHyPbVHVigGH",
        "colab_type": "code",
        "outputId": "064e87a7-993e-4bd5-c1af-982f2592893a",
        "colab": {
          "base_uri": "https://localhost:8080/",
          "height": 294
        }
      },
      "cell_type": "code",
      "source": [
        "\n",
        "plt.title(\"accuracy optmizer\")\n",
        "x = np.arange(0,epochs)\n",
        "plt.plot(x,test_acc_SGD,label = \"SGD\")\n",
        "plt.plot(x,test_acc_ADAM,label = \"ADAM\")\n",
        "plt.plot(x,test_acc_RMS,label = \"RMS\")\n",
        "plt.xlabel(\"epochs\")\n",
        "plt.ylabel(\"accuracy\")\n",
        "plt.legend()\n",
        "plt.show()\n",
        "\n",
        "\n",
        "\n"
      ],
      "execution_count": 401,
      "outputs": [
        {
          "output_type": "display_data",
          "data": {
            "image/png": "[encoded data removed]",
            "text/plain": [
              "<Figure size 432x288 with 1 Axes>"
            ]
          },
          "metadata": {
            "tags": []
          }
        }
      ]
    },
    {
      "metadata": {
        "id": "NxYGJYbN5mxL",
        "colab_type": "text"
      },
      "cell_type": "markdown",
      "source": [
        "#Testando diferentes loss no SGD"
      ]
    },
    {
      "metadata": {
        "id": "6BvFFXan6Pv6",
        "colab_type": "code",
        "outputId": "6967857b-dfee-4d7d-eaf7-6229cfd8d4c3",
        "colab": {
          "base_uri": "https://localhost:8080/",
          "height": 187
        }
      },
      "cell_type": "code",
      "source": [
        "\n",
        "model1 = MLP().to(device)\n",
        "model2 = MLP().to(device)\n",
        "print(model1)\n",
        "print(model2)\n",
        "\n",
        "\n",
        "optimizerSGD1 = torch.optim.SGD(model1.parameters(), lr = 0.01,momentum=0.5)\n",
        "optimizerSGD2 = torch.optim.SGD(model2.parameters(), lr = 0.01,momentum=0.5)\n",
        "\n",
        "loss_cross =  nn.CrossEntropyLoss()\n",
        "loss_nll = nn.NLLLoss()"
      ],
      "execution_count": 402,
      "outputs": [
        {
          "output_type": "stream",
          "text": [
            "MLP(\n",
            "  (fc1): Linear(in_features=1024, out_features=100, bias=True)\n",
            "  (fc2): Linear(in_features=100, out_features=100, bias=True)\n",
            "  (fc3): Linear(in_features=100, out_features=10, bias=True)\n",
            ")\n",
            "MLP(\n",
            "  (fc1): Linear(in_features=1024, out_features=100, bias=True)\n",
            "  (fc2): Linear(in_features=100, out_features=100, bias=True)\n",
            "  (fc3): Linear(in_features=100, out_features=10, bias=True)\n",
            ")\n"
          ],
          "name": "stdout"
        }
      ]
    },
    {
      "metadata": {
        "id": "9Oti9gdAie7H",
        "colab_type": "code",
        "colab": {}
      },
      "cell_type": "code",
      "source": [
        "epochs =50\n",
        "test_loss = []\n",
        "train_loss = []\n",
        "test_acc_CROSS = []\n",
        "test_acc_NLL = []\n",
        "\n",
        "train(epochs,train_loss,test_loss,optimizer = optimizerSGD1, loss_fn = loss_cross,test_acc =test_acc_CROSS,model = model1)\n",
        "train(epochs,train_loss,test_loss,optimizer = optimizerSGD2, loss_fn = loss_nll,test_acc =test_acc_NLL,model = model2)\n",
        "\n",
        "  "
      ],
      "execution_count": 0,
      "outputs": []
    },
    {
      "metadata": {
        "id": "QjynX3BhSrU9",
        "colab_type": "code",
        "outputId": "3fb51921-601e-4fd0-a28f-1361f91a145b",
        "colab": {
          "base_uri": "https://localhost:8080/",
          "height": 294
        }
      },
      "cell_type": "code",
      "source": [
        "  \n",
        "plt.title(\"accuracy\")\n",
        "x = np.arange(0,epochs)\n",
        "plt.plot(x,test_acc_CROSS,label = \"CROSS ENTROPY\")\n",
        "plt.plot(x,test_acc_NLL,label = \"NLL\")\n",
        "plt.xlabel(\"epochs\")\n",
        "plt.ylabel(\"accuracy\")\n",
        "plt.legend()\n",
        "plt.show()\n"
      ],
      "execution_count": 404,
      "outputs": [
        {
          "output_type": "display_data",
          "data": {
            "image/png": "[encoded data removed]",
            "text/plain": [
              "<Figure size 432x288 with 1 Axes>"
            ]
          },
          "metadata": {
            "tags": []
          }
        }
      ]
    },
    {
      "metadata": {
        "id": "I3ZOSjq9-DG4",
        "colab_type": "text"
      },
      "cell_type": "markdown",
      "source": [
        "#Testando Diferentes arquiteturas no SGD com Cross-Entropy"
      ]
    },
    {
      "metadata": {
        "id": "WPoLkcPgXgBK",
        "colab_type": "code",
        "outputId": "7c63fa1a-0294-43fa-b3d3-64e401e05e5c",
        "colab": {
          "base_uri": "https://localhost:8080/",
          "height": 408
        }
      },
      "cell_type": "code",
      "source": [
        "model1 = MLP().to(device) #Uma camada escondida com 100 neuronios, função = Relu\n",
        "model2 = MLP2().to(device)#Uma camada escondida com 100 neuronios, função = Sigmoid\n",
        "model3 = MLP3().to(device)#Duas camadas escondidas com 100 neuronios cada, função = Relu\n",
        "model4 = MLP4().to(device)#Duas camadas com neuronios variados, função = Relu\n",
        "print(model1)\n",
        "print(model2)\n",
        "print(model3)\n",
        "print(model4)\n",
        "\n",
        "\n",
        "optimizerSGD1 = torch.optim.SGD(model1.parameters(), lr = 0.01,momentum=0.5)\n",
        "optimizerSGD2 = torch.optim.SGD(model2.parameters(), lr = 0.01,momentum=0.5)\n",
        "optimizerSGD3 = torch.optim.SGD(model3.parameters(), lr = 0.01,momentum=0.5)\n",
        "optimizerSGD4 = torch.optim.SGD(model4.parameters(), lr = 0.01,momentum=0.5)\n",
        "\n",
        "loss_cross =  nn.CrossEntropyLoss()\n"
      ],
      "execution_count": 405,
      "outputs": [
        {
          "output_type": "stream",
          "text": [
            "MLP(\n",
            "  (fc1): Linear(in_features=1024, out_features=100, bias=True)\n",
            "  (fc2): Linear(in_features=100, out_features=100, bias=True)\n",
            "  (fc3): Linear(in_features=100, out_features=10, bias=True)\n",
            ")\n",
            "MLP2(\n",
            "  (fc1): Linear(in_features=1024, out_features=100, bias=True)\n",
            "  (fc2): Linear(in_features=100, out_features=100, bias=True)\n",
            "  (fc3): Linear(in_features=100, out_features=10, bias=True)\n",
            "  (activation_function): Sigmoid()\n",
            ")\n",
            "MLP3(\n",
            "  (fc1): Linear(in_features=1024, out_features=100, bias=True)\n",
            "  (fc2): Linear(in_features=100, out_features=100, bias=True)\n",
            "  (fc3): Linear(in_features=100, out_features=100, bias=True)\n",
            "  (fc4): Linear(in_features=100, out_features=10, bias=True)\n",
            ")\n",
            "MLP4(\n",
            "  (fc1): Linear(in_features=1024, out_features=256, bias=True)\n",
            "  (fc2): Linear(in_features=256, out_features=128, bias=True)\n",
            "  (fc3): Linear(in_features=128, out_features=64, bias=True)\n",
            "  (fc4): Linear(in_features=64, out_features=10, bias=True)\n",
            ")\n"
          ],
          "name": "stdout"
        }
      ]
    },
    {
      "metadata": {
        "id": "OKT57pI7-RBH",
        "colab_type": "code",
        "colab": {}
      },
      "cell_type": "code",
      "source": [
        "epochs =50\n",
        "test_loss = []\n",
        "train_loss = []\n",
        "test_acc_MLP1 = []\n",
        "test_acc_MLP2 = []\n",
        "test_acc_MLP3 = []\n",
        "test_acc_MLP4 = []\n",
        "\n",
        "train(epochs,train_loss,test_loss,optimizer = optimizerSGD1, loss_fn = loss_cross,test_acc = test_acc_MLP1,model = model1)\n",
        "train(epochs,train_loss,test_loss,optimizer = optimizerSGD2, loss_fn = loss_cross,test_acc =test_acc_MLP2,model = model2)\n",
        "train(epochs,train_loss,test_loss,optimizer = optimizerSGD3, loss_fn = loss_cross,test_acc =test_acc_MLP3,model = model3)\n",
        "train(epochs,train_loss,test_loss,optimizer = optimizerSGD4, loss_fn = loss_cross,test_acc =test_acc_MLP4,model = model4)"
      ],
      "execution_count": 0,
      "outputs": []
    },
    {
      "metadata": {
        "id": "XSi0dTXZ_cmG",
        "colab_type": "code",
        "colab": {
          "base_uri": "https://localhost:8080/",
          "height": 294
        },
        "outputId": "9545156b-00fa-4c7a-f2bc-beff5082c043"
      },
      "cell_type": "code",
      "source": [
        "  \n",
        "plt.title(\"accuracy\")\n",
        "x = np.arange(0,epochs)\n",
        "plt.plot(x,test_acc_MLP1,label = \"usando Relu\")\n",
        "plt.plot(x,test_acc_MLP2,label = \"usando Sigmoid\")\n",
        "plt.plot(x,test_acc_MLP3,label = \"duas camadas com 100 neuronios\")\n",
        "plt.plot(x,test_acc_MLP4,label = \"duas camadas com neuronios variados\")\n",
        "plt.xlabel(\"epochs\")\n",
        "plt.ylabel(\"accuracy\")\n",
        "plt.legend()\n",
        "plt.show()"
      ],
      "execution_count": 407,
      "outputs": [
        {
          "output_type": "display_data",
          "data": {
            "image/png": "[encoded data removed]",
            "text/plain": [
              "<Figure size 432x288 with 1 Axes>"
            ]
          },
          "metadata": {
            "tags": []
          }
        }
      ]
    },
    {
      "metadata": {
        "id": "4Bf6QnP1_qg7",
        "colab_type": "code",
        "colab": {}
      },
      "cell_type": "code",
      "source": [
        ""
      ],
      "execution_count": 0,
      "outputs": []
    }
  ]
}