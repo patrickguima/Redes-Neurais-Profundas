{
  "nbformat": 4,
  "nbformat_minor": 0,
  "metadata": {
    "colab": {
      "name": "MLP PyTorch.ipynb",
      "version": "0.3.2",
      "provenance": [],
      "collapsed_sections": []
    },
    "kernelspec": {
      "name": "python3",
      "display_name": "Python 3"
    },
    "accelerator": "GPU"
  },
  "cells": [
    {
      "metadata": {
        "id": "RV0TVGpZzm3t",
        "colab_type": "text"
      },
      "cell_type": "markdown",
      "source": [
        "# Objetivos deste trabalho\n",
        "- Familiarizar-se com a biblioteca PyTorch\n",
        "- Definir arquiteturas MLP simples em PyTorch\n",
        "- Treinar utilizando CIFAR10, testando diferentes arquiteturas, parâmetros, funções de loss e otimizadores\n",
        "- Comparar os resultados obtidos utilizando apenas Perpceptrons"
      ]
    },
    {
      "metadata": {
        "id": "bLuAUO2Jzm3x",
        "colab_type": "code",
        "colab": {}
      },
      "cell_type": "code",
      "source": [
        "%matplotlib inline\n",
        "\n",
        "import numpy as np \n",
        "import matplotlib.pyplot as plt\n",
        "\n",
        "import torch\n",
        "import torch.nn as nn\n",
        "import torch.nn.functional as F\n",
        "from torch.utils.data import DataLoader\n",
        "\n",
        "import torchvision\n",
        "import torchvision.transforms as transforms"
      ],
      "execution_count": 0,
      "outputs": []
    },
    {
      "metadata": {
        "id": "Zs24gZclzm35",
        "colab_type": "code",
        "outputId": "12d9784f-51e0-4628-cd85-8b382ce2f12b",
        "colab": {
          "base_uri": "https://localhost:8080/",
          "height": 51
        }
      },
      "cell_type": "code",
      "source": [
        "# Carregar os datasets\n",
        "\n",
        "transform=transforms.Compose([\n",
        "    transforms.Grayscale(num_output_channels=1),\n",
        "    transforms.ToTensor()\n",
        "])\n",
        "\n",
        "dataset_train = torchvision.datasets.CIFAR10(root='./data', train=True,\n",
        "                                        download=True, transform=transform)\n",
        "\n",
        "dataset_test = torchvision.datasets.CIFAR10(root='./data', train=False,\n",
        "                                        download=True, transform=transform)"
      ],
      "execution_count": 324,
      "outputs": [
        {
          "output_type": "stream",
          "text": [
            "Files already downloaded and verified\n",
            "Files already downloaded and verified\n"
          ],
          "name": "stdout"
        }
      ]
    },
    {
      "metadata": {
        "id": "KMthevHMzm4B",
        "colab_type": "code",
        "outputId": "4a023719-5d13-47a7-908d-fed3ff32c640",
        "colab": {
          "base_uri": "https://localhost:8080/",
          "height": 51
        }
      },
      "cell_type": "code",
      "source": [
        "train_loader = DataLoader(dataset=dataset_train, shuffle=True,batch_size=32)\n",
        "test_loader = DataLoader(dataset=dataset_test, shuffle=False)\n",
        "\n",
        "dataiter = iter(train_loader)\n",
        "images, labels = dataiter.next()\n",
        "print(images.size())\n",
        "device = torch.device(\"cuda:0\" if torch.cuda.is_available() else \"cpu\")\n",
        "print(device)"
      ],
      "execution_count": 325,
      "outputs": [
        {
          "output_type": "stream",
          "text": [
            "torch.Size([32, 1, 32, 32])\n",
            "cuda:0\n"
          ],
          "name": "stdout"
        }
      ]
    },
    {
      "metadata": {
        "id": "FD5BNS7jzm4E",
        "colab_type": "code",
        "colab": {}
      },
      "cell_type": "code",
      "source": [
        "# Definir a arquitetura MLP\n",
        "\n",
        "class MLP(nn.ModuleList):\n",
        "  def __init__(self):\n",
        "    super(MLP, self).__init__()\n",
        "    self.fc1 = nn.Linear(32*32,100)\n",
        "    self.fc2 = nn.Linear(100,100)\n",
        "    self.fc3 = nn.Linear(100, 10)\n",
        "       \n",
        "\n",
        "       \n",
        "       \n",
        "  def forward(self, x):\n",
        "    x = x.view(-1, 32*32)\n",
        "    x = F.relu(self.fc1(x))\n",
        "    x = F.relu(self.fc2(x))\n",
        "    x = F.log_softmax(self.fc3(x),dim =1)\n",
        "    return x"
      ],
      "execution_count": 0,
      "outputs": []
    },
    {
      "metadata": {
        "id": "XYH4oxPVzm4I",
        "colab_type": "code",
        "colab": {}
      },
      "cell_type": "code",
      "source": [
        "class MLP2(nn.ModuleList):\n",
        "  def __init__(self):\n",
        "    super(MLP2, self).__init__()\n",
        "    self.fc1 = nn.Linear(32*32,100)\n",
        "    self.fc2 = nn.Linear(100,100)\n",
        "    self.fc3 = nn.Linear(100, 10)\n",
        "    self.activation_function = nn.Sigmoid()\n",
        "  def forward(self, x):\n",
        "    x = x.view(-1, 32*32)\n",
        "    x = self.activation_function(self.fc1(x))\n",
        "    x = self.activation_function(self.fc2(x))\n",
        "    x =F.log_softmax(self.fc3(x),dim =1)\n",
        "    return x\n",
        "      \n",
        "\n"
      ],
      "execution_count": 0,
      "outputs": []
    },
    {
      "metadata": {
        "id": "al7KPmdW9lCR",
        "colab_type": "code",
        "colab": {}
      },
      "cell_type": "code",
      "source": [
        "class MLP3(nn.ModuleList):\n",
        "  def __init__(self):\n",
        "    super(MLP3, self).__init__()\n",
        "    self.fc1 = nn.Linear(32*32,100)\n",
        "    self.fc2 = nn.Linear(100,100)\n",
        "    self.fc3 = nn.Linear(100,100)\n",
        "    self.fc4 = nn.Linear(100, 10)\n",
        "       \n",
        "\n",
        "       \n",
        "        \n",
        "  def forward(self, x):\n",
        "    x = x.view(-1, 32*32)\n",
        "    x = F.relu(self.fc1(x))\n",
        "    x = F.relu(self.fc2(x))\n",
        "    x = F.relu(self.fc3(x))\n",
        "    x =F.log_softmax(self.fc4(x),dim =1)\n",
        "       \n",
        "\n",
        "    return x\n",
        "      "
      ],
      "execution_count": 0,
      "outputs": []
    },
    {
      "metadata": {
        "id": "iGNWftPi3Q9q",
        "colab_type": "code",
        "colab": {}
      },
      "cell_type": "code",
      "source": [
        "\n",
        "class MLP4(nn.ModuleList):\n",
        "  def __init__(self):\n",
        "    super(MLP4, self).__init__()\n",
        "    self.fc1 = nn.Linear(32*32,256)\n",
        "    self.fc2 = nn.Linear(256,128)\n",
        "    self.fc3 = nn.Linear(128,64)\n",
        "    self.fc4 = nn.Linear(64, 10)\n",
        "       \n",
        "\n",
        "       \n",
        "      \n",
        "  def forward(self, x):\n",
        "    x = x.view(-1, 32*32)\n",
        "    x = F.relu(self.fc1(x))\n",
        "    x = F.relu(self.fc2(x))\n",
        "    x = F.relu(self.fc3(x))\n",
        "    x =F.log_softmax(self.fc4(x),dim =1)\n",
        "       \n",
        "\n",
        "    return x\n"
      ],
      "execution_count": 0,
      "outputs": []
    },
    {
      "metadata": {
        "id": "Up1Mk2aTAtyj",
        "colab_type": "code",
        "colab": {}
      },
      "cell_type": "code",
      "source": [
        ""
      ],
      "execution_count": 0,
      "outputs": []
    },
    {
      "metadata": {
        "id": "CyX-1qmi4_H2",
        "colab_type": "text"
      },
      "cell_type": "markdown",
      "source": [
        "#Treinamento"
      ]
    },
    {
      "metadata": {
        "id": "-7Wn7VDlzm4P",
        "colab_type": "code",
        "colab": {}
      },
      "cell_type": "code",
      "source": [
        "# Realizar o treinamento aqui\n",
        "def train(epochs,train_loss,test_loss,optimizer,loss_fn,test_acc,model):\n",
        "  \n",
        "  #print(optimizer)\n",
        "  #print(model)\n",
        "  #print(loss_fn)\n",
        "  for epoch in range(epochs):\n",
        "    model.train() \n",
        "    train_losses = []   \n",
        "    for i, (images,labels) in enumerate(train_loader):\n",
        "      images,labels = images.to(device),labels.to(device)\n",
        "      optimizer.zero_grad()\n",
        "      outputs = model(images)\n",
        "      loss = loss_fn(outputs,labels)\n",
        "      loss.backward()\n",
        "      optimizer.step()\n",
        "      train_losses.append(loss.item())\n",
        "    \n",
        "    train_loss.append(np.mean(train_losses))\n",
        "    \n",
        "  #  print('epoch : {}, train loss : {:.4f}'\\\n",
        "     #    .format(epoch+1, np.mean(train_losses)))\n",
        "    validation(loss_fn,test_loss,test_acc,model)\n",
        "    \n",
        "  "
      ],
      "execution_count": 0,
      "outputs": []
    },
    {
      "metadata": {
        "id": "MV0zLnqu5FHz",
        "colab_type": "text"
      },
      "cell_type": "markdown",
      "source": [
        "#Avaliação "
      ]
    },
    {
      "metadata": {
        "id": "XL8UNbZGI5sw",
        "colab_type": "code",
        "colab": {}
      },
      "cell_type": "code",
      "source": [
        "\n",
        "# Avaliar o modelo aqui (no conjunto de teste)\n",
        "def validation(loss_fn,test_loss,test_acc,model):\n",
        "  model.eval()\n",
        "  correct =0\n",
        "  total = 0\n",
        "  loss=0\n",
        "  accuracy=0\n",
        "  test_losses = []\n",
        "  for i, (images, labels) in enumerate(test_loader):\n",
        "    images,labels = images.to(device),labels.to(device)\n",
        "    outputs = model(images)\n",
        "    loss = loss_fn(outputs, labels)\n",
        "    test_losses.append(loss.item())  \n",
        "    _, predicted = torch.max(outputs.data, 1)\n",
        "    correct += (predicted == labels).sum().item()\n",
        "    total += labels.size(0)\n",
        "  \n",
        "   \n",
        "  accuracy = 100*correct/total\n",
        "  test_acc.append(accuracy)\n",
        "  test_loss.append(np.mean(test_losses))\n",
        "  #print(' test_loss : {:.4f} , test_ acc : {:.2f}%'\\\n",
        "       # .format(np.mean(test_losses),accuracy))"
      ],
      "execution_count": 0,
      "outputs": []
    },
    {
      "metadata": {
        "id": "rYZIAmfhpvZ3",
        "colab_type": "text"
      },
      "cell_type": "markdown",
      "source": [
        "#definindo otimizadores e funçoes loss\n"
      ]
    },
    {
      "metadata": {
        "id": "MIWxjXt-p5et",
        "colab_type": "code",
        "colab": {
          "base_uri": "https://localhost:8080/",
          "height": 102
        },
        "outputId": "cfb97db4-17dc-42c9-e986-4f4d0e4c44a2"
      },
      "cell_type": "code",
      "source": [
        "\n",
        "model1 = MLP().to(device)\n",
        "model2 = MLP().to(device)\n",
        "model3 = MLP().to(device)\n",
        "print(model1)\n"
      ],
      "execution_count": 332,
      "outputs": [
        {
          "output_type": "stream",
          "text": [
            "MLP(\n",
            "  (fc1): Linear(in_features=1024, out_features=100, bias=True)\n",
            "  (fc2): Linear(in_features=100, out_features=100, bias=True)\n",
            "  (fc3): Linear(in_features=100, out_features=10, bias=True)\n",
            ")\n"
          ],
          "name": "stdout"
        }
      ]
    },
    {
      "metadata": {
        "id": "GeqKKDDoptDM",
        "colab_type": "code",
        "colab": {}
      },
      "cell_type": "code",
      "source": [
        "# Definir otimizador e loss\n",
        "# Nota: testar outros otimizadores e funções de loss (em particular cross entropy)\n",
        "\n",
        "optimizerSGD = torch.optim.SGD(model1.parameters(), lr = 0.01,momentum=0.5)\n",
        "optimizerADAM = torch.optim.Adam(model2.parameters(), lr=0.01)\n",
        "optimizerRMS = torch.optim.RMSprop(model3.parameters(), lr=0.01)\n",
        "\n",
        "loss_cross =  nn.CrossEntropyLoss()\n",
        "loss_nll = nn.NLLLoss()"
      ],
      "execution_count": 0,
      "outputs": []
    },
    {
      "metadata": {
        "id": "ZzdYdIwc44PM",
        "colab_type": "text"
      },
      "cell_type": "markdown",
      "source": [
        "#testando diferentes otimizadores"
      ]
    },
    {
      "metadata": {
        "id": "UpUav-KdgY1s",
        "colab_type": "code",
        "outputId": "8f527b7f-d95f-4b9b-a09d-fb354bd014b6",
        "colab": {
          "base_uri": "https://localhost:8080/",
          "height": 85
        }
      },
      "cell_type": "code",
      "source": [
        "\n",
        "\n",
        "test_loss = []\n",
        "train_loss = []\n",
        "test_acc_SGD = []\n",
        "test_acc_ADAM = []\n",
        "test_acc_RMS = []\n",
        "epochs = 20\n",
        "\n",
        "\n",
        "print(\"SGD\")\n",
        "train(epochs,train_loss,test_loss,optimizer = optimizerSGD, loss_fn = loss_cross,test_acc =test_acc_SGD,model = model1)\n",
        "print(\"ADAM\")\n",
        "train(epochs,train_loss,test_loss,optimizer = optimizerADAM, loss_fn = loss_cross,test_acc =test_acc_ADAM,model = model2)\n",
        "print(\"RMS\")\n",
        "train(epochs,train_loss,test_loss,optimizer = optimizerRMS, loss_fn = loss_cross,test_acc =test_acc_RMS,model = model3)\n",
        "print(test_acc_SGD)\n",
        "\n",
        "  "
      ],
      "execution_count": 334,
      "outputs": [
        {
          "output_type": "stream",
          "text": [
            "SGD\n",
            "ADAM\n",
            "RMS\n",
            "[25.73, 30.53, 31.73, 33.08, 36.41, 36.71, 37.22, 38.35, 38.91, 40.25, 38.83, 40.31, 38.64, 38.99, 39.93, 39.58, 41.55, 41.25, 42.5, 41.52]\n"
          ],
          "name": "stdout"
        }
      ]
    },
    {
      "metadata": {
        "id": "kHyPbVHVigGH",
        "colab_type": "code",
        "colab": {
          "base_uri": "https://localhost:8080/",
          "height": 294
        },
        "outputId": "0596c157-be87-446a-af04-408c57c1734c"
      },
      "cell_type": "code",
      "source": [
        "\n",
        "plt.title(\"accuracy optmizer\")\n",
        "x = np.arange(0,epochs)\n",
        "plt.plot(x,test_acc_SGD,label = \"SGD\")\n",
        "plt.plot(x,test_acc_ADAM,label = \"ADAM\")\n",
        "plt.plot(x,test_acc_RMS,label = \"RMS\")\n",
        "plt.xlabel(\"epochs\")\n",
        "plt.ylabel(\"accuracy\")\n",
        "plt.legend()\n",
        "plt.show()\n",
        "\n",
        "\n",
        "\n"
      ],
      "execution_count": 335,
      "outputs": [
        {
          "output_type": "display_data",
          "data": {
            "image/png": "[encoded data removed]",
            "text/plain": [
              "<Figure size 432x288 with 1 Axes>"
            ]
          },
          "metadata": {
            "tags": []
          }
        }
      ]
    },
    {
      "metadata": {
        "id": "NxYGJYbN5mxL",
        "colab_type": "text"
      },
      "cell_type": "markdown",
      "source": [
        "#Testando diferentes loss no SGD"
      ]
    },
    {
      "metadata": {
        "id": "6BvFFXan6Pv6",
        "colab_type": "code",
        "colab": {
          "base_uri": "https://localhost:8080/",
          "height": 187
        },
        "outputId": "20261c6e-02bf-46c0-b1f0-de702f429e87"
      },
      "cell_type": "code",
      "source": [
        "\n",
        "model1 = MLP().to(device)\n",
        "model2 = MLP().to(device)\n",
        "print(model1)\n",
        "print(model2)\n",
        "\n",
        "\n",
        "optimizerSGD1 = torch.optim.SGD(model1.parameters(), lr = 0.01,momentum=0.5)\n",
        "optimizerSGD2 = torch.optim.SGD(model2.parameters(), lr = 0.01,momentum=0.5)\n",
        "\n",
        "loss_cross =  nn.CrossEntropyLoss()\n",
        "loss_nll = nn.NLLLoss()"
      ],
      "execution_count": 336,
      "outputs": [
        {
          "output_type": "stream",
          "text": [
            "MLP(\n",
            "  (fc1): Linear(in_features=1024, out_features=100, bias=True)\n",
            "  (fc2): Linear(in_features=100, out_features=100, bias=True)\n",
            "  (fc3): Linear(in_features=100, out_features=10, bias=True)\n",
            ")\n",
            "MLP(\n",
            "  (fc1): Linear(in_features=1024, out_features=100, bias=True)\n",
            "  (fc2): Linear(in_features=100, out_features=100, bias=True)\n",
            "  (fc3): Linear(in_features=100, out_features=10, bias=True)\n",
            ")\n"
          ],
          "name": "stdout"
        }
      ]
    },
    {
      "metadata": {
        "id": "9Oti9gdAie7H",
        "colab_type": "code",
        "colab": {}
      },
      "cell_type": "code",
      "source": [
        "epochs =20\n",
        "test_loss = []\n",
        "train_loss = []\n",
        "test_acc_CROSS = []\n",
        "test_acc_NLL = []\n",
        "\n",
        "train(epochs,train_loss,test_loss,optimizer = optimizerSGD1, loss_fn = loss_cross,test_acc =test_acc_CROSS,model = model1)\n",
        "train(epochs,train_loss,test_loss,optimizer = optimizerSGD2, loss_fn = loss_nll,test_acc =test_acc_NLL,model = model2)\n",
        "\n",
        "  "
      ],
      "execution_count": 0,
      "outputs": []
    },
    {
      "metadata": {
        "id": "QjynX3BhSrU9",
        "colab_type": "code",
        "colab": {
          "base_uri": "https://localhost:8080/",
          "height": 294
        },
        "outputId": "186708cd-408d-49c5-c209-b781db2e8624"
      },
      "cell_type": "code",
      "source": [
        "  \n",
        "plt.title(\"accuracy\")\n",
        "x = np.arange(0,epochs)\n",
        "plt.plot(x,test_acc_CROSS,label = \"CROSS ENTROPY\")\n",
        "plt.plot(x,test_acc_NLL,label = \"NLL\")\n",
        "plt.xlabel(\"epochs\")\n",
        "plt.ylabel(\"accuracy\")\n",
        "plt.legend()\n",
        "plt.show()\n"
      ],
      "execution_count": 338,
      "outputs": [
        {
          "output_type": "display_data",
          "data": {
            "image/png": "[encoded data removed]",
            "text/plain": [
              "<Figure size 432x288 with 1 Axes>"
            ]
          },
          "metadata": {
            "tags": []
          }
        }
      ]
    },
    {
      "metadata": {
        "id": "I3ZOSjq9-DG4",
        "colab_type": "text"
      },
      "cell_type": "markdown",
      "source": [
        "#Testando Diferentes arquiteturas no SGD com Cross-Entropy"
      ]
    },
    {
      "metadata": {
        "id": "WPoLkcPgXgBK",
        "colab_type": "code",
        "colab": {
          "base_uri": "https://localhost:8080/",
          "height": 408
        },
        "outputId": "08f56571-4c5b-4023-a87d-e32a39d10354"
      },
      "cell_type": "code",
      "source": [
        "model1 = MLP().to(device) #Uma camada escondida com 100 neuronios, função = Relu\n",
        "model2 = MLP2().to(device)#Uma camada escondida com 100 neuronios, função = Sigmoid\n",
        "model3 = MLP3().to(device)#Duas camadas escondidas com 100 neuronios cada, função = Relu\n",
        "model4 = MLP4().to(device)#Duas camadas com neuronios variados, função = Relu\n",
        "print(model1)\n",
        "print(model2)\n",
        "print(model3)\n",
        "print(model4)\n",
        "\n",
        "\n",
        "optimizerSGD1 = torch.optim.SGD(model1.parameters(), lr = 0.01,momentum=0.5)\n",
        "optimizerSGD2 = torch.optim.SGD(model2.parameters(), lr = 0.01,momentum=0.5)\n",
        "optimizerSGD3 = torch.optim.SGD(model3.parameters(), lr = 0.01,momentum=0.5)\n",
        "optimizerSGD4 = torch.optim.SGD(model4.parameters(), lr = 0.01,momentum=0.5)\n",
        "\n",
        "loss_cross =  nn.CrossEntropyLoss()\n"
      ],
      "execution_count": 339,
      "outputs": [
        {
          "output_type": "stream",
          "text": [
            "MLP(\n",
            "  (fc1): Linear(in_features=1024, out_features=100, bias=True)\n",
            "  (fc2): Linear(in_features=100, out_features=100, bias=True)\n",
            "  (fc3): Linear(in_features=100, out_features=10, bias=True)\n",
            ")\n",
            "MLP2(\n",
            "  (fc1): Linear(in_features=1024, out_features=100, bias=True)\n",
            "  (fc2): Linear(in_features=100, out_features=100, bias=True)\n",
            "  (fc3): Linear(in_features=100, out_features=10, bias=True)\n",
            "  (activation_function): Sigmoid()\n",
            ")\n",
            "MLP3(\n",
            "  (fc1): Linear(in_features=1024, out_features=100, bias=True)\n",
            "  (fc2): Linear(in_features=100, out_features=100, bias=True)\n",
            "  (fc3): Linear(in_features=100, out_features=100, bias=True)\n",
            "  (fc4): Linear(in_features=100, out_features=10, bias=True)\n",
            ")\n",
            "MLP4(\n",
            "  (fc1): Linear(in_features=1024, out_features=256, bias=True)\n",
            "  (fc2): Linear(in_features=256, out_features=128, bias=True)\n",
            "  (fc3): Linear(in_features=128, out_features=64, bias=True)\n",
            "  (fc4): Linear(in_features=64, out_features=10, bias=True)\n",
            ")\n"
          ],
          "name": "stdout"
        }
      ]
    },
    {
      "metadata": {
        "id": "OKT57pI7-RBH",
        "colab_type": "code",
        "colab": {}
      },
      "cell_type": "code",
      "source": [
        "epochs =20\n",
        "test_loss = []\n",
        "train_loss = []\n",
        "test_acc_MLP1 = []\n",
        "test_acc_MLP2 = []\n",
        "test_acc_MLP3 = []\n",
        "test_acc_MLP4 = []\n",
        "\n",
        "train(epochs,train_loss,test_loss,optimizer = optimizerSGD1, loss_fn = loss_cross,test_acc = test_acc_MLP1,model = model1)\n",
        "train(epochs,train_loss,test_loss,optimizer = optimizerSGD2, loss_fn = loss_cross,test_acc =test_acc_MLP2,model = model2)\n",
        "train(epochs,train_loss,test_loss,optimizer = optimizerSGD3, loss_fn = loss_cross,test_acc =test_acc_MLP3,model = model3)\n",
        "train(epochs,train_loss,test_loss,optimizer = optimizerSGD4, loss_fn = loss_cross,test_acc =test_acc_MLP4,model = model4)"
      ],
      "execution_count": 0,
      "outputs": []
    },
    {
      "metadata": {
        "id": "XSi0dTXZ_cmG",
        "colab_type": "code",
        "colab": {
          "base_uri": "https://localhost:8080/",
          "height": 294
        },
        "outputId": "16660ea2-29d5-4ce8-c763-9242f3f0f4ce"
      },
      "cell_type": "code",
      "source": [
        "  \n",
        "plt.title(\"accuracy\")\n",
        "x = np.arange(0,epochs)\n",
        "plt.plot(x,test_acc_MLP1,label = \"usando Relu\")\n",
        "plt.plot(x,test_acc_MLP2,label = \"usando Sigmoid\")\n",
        "plt.plot(x,test_acc_MLP3,label = \"duas camadas com 100 neuronios\")\n",
        "plt.plot(x,test_acc_MLP4,label = \"duas camadas com neuronios variados\")\n",
        "plt.xlabel(\"epochs\")\n",
        "plt.ylabel(\"accuracy\")\n",
        "plt.legend()\n",
        "plt.show()"
      ],
      "execution_count": 341,
      "outputs": [
        {
          "output_type": "display_data",
          "data": {
            "image/png": "[encoded data removed]",
            "text/plain": [
              "<Figure size 432x288 with 1 Axes>"
            ]
          },
          "metadata": {
            "tags": []
          }
        }
      ]
    },
    {
      "metadata": {
        "id": "4Bf6QnP1_qg7",
        "colab_type": "code",
        "colab": {}
      },
      "cell_type": "code",
      "source": [
        ""
      ],
      "execution_count": 0,
      "outputs": []
    }
  ]
}